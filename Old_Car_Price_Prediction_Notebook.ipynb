{
 "cells": [
  {
   "cell_type": "markdown",
   "id": "f95075a5",
   "metadata": {},
   "source": [
    "### Importing libraries"
   ]
  },
  {
   "cell_type": "code",
   "execution_count": 1,
   "id": "935b3c17",
   "metadata": {},
   "outputs": [
    {
     "name": "stdout",
     "output_type": "stream",
     "text": [
      "import libraries\n",
      "...\n",
      "...\n",
      "Done\n",
      "Libraries imported\n"
     ]
    }
   ],
   "source": [
    "print(\"import libraries\")\n",
    "print(\"...\")\n",
    "#to disable notebook warnings\n",
    "import warnings\n",
    "warnings.filterwarnings('ignore')\n",
    "\n",
    "# data processing\n",
    "import pandas as pd\n",
    "\n",
    "# linear algebra\n",
    "import numpy as np\n",
    "\n",
    "# data visualization\n",
    "import matplotlib.pyplot as plt\n",
    "import seaborn as sns\n",
    "\n",
    "# data standardization\n",
    "from sklearn.preprocessing import RobustScaler\n",
    "from sklearn.preprocessing import StandardScaler\n",
    "from sklearn.preprocessing import MinMaxScaler\n",
    "\n",
    "# train test split\n",
    "from sklearn.model_selection import train_test_split\n",
    "\n",
    "# ML\n",
    "from sklearn.tree import DecisionTreeRegressor\n",
    "from sklearn.metrics import mean_squared_error\n",
    "from sklearn.ensemble import RandomForestRegressor\n",
    "from sklearn.model_selection import GridSearchCV\n",
    "from sklearn.ensemble import AdaBoostRegressor\n",
    "from xgboost import XGBRegressor\n",
    "from sklearn.svm import SVR\n",
    "\n",
    "print(\"...\")\n",
    "print(\"Done\")\n",
    "print(\"Libraries imported\")"
   ]
  },
  {
   "cell_type": "code",
   "execution_count": 2,
   "id": "4d4e3e42",
   "metadata": {},
   "outputs": [],
   "source": [
    "## To set display settings\n",
    "#pd.options.display.float_format = '{:,.3f}'.format\n",
    "pd.set_option('display.max_columns', None)"
   ]
  },
  {
   "cell_type": "markdown",
   "id": "59ba8167",
   "metadata": {},
   "source": [
    "### Loading data"
   ]
  },
  {
   "cell_type": "code",
   "execution_count": 3,
   "id": "7bb2d986",
   "metadata": {},
   "outputs": [],
   "source": [
    "def read_data(path):\n",
    "    data = pd.read_csv(path)\n",
    "    return data"
   ]
  },
  {
   "cell_type": "code",
   "execution_count": 4,
   "id": "abc5c5b1",
   "metadata": {},
   "outputs": [],
   "source": [
    "train_data = read_data(\"./train.csv\")"
   ]
  },
  {
   "cell_type": "code",
   "execution_count": 5,
   "id": "92e26425",
   "metadata": {},
   "outputs": [],
   "source": [
    "test_data = read_data(\"./test.csv\")"
   ]
  },
  {
   "cell_type": "code",
   "execution_count": 6,
   "id": "580e8531",
   "metadata": {},
   "outputs": [],
   "source": [
    "## dropping columns\n",
    "\n",
    "def drop_columns(data, columns):\n",
    "    data = data.drop(columns=columns,axis=1,inplace=True)\n",
    "    return data\n",
    "\n",
    "## dropping id column\n",
    "drop_columns(train_data,'id')\n",
    "drop_columns(test_data,'id')"
   ]
  },
  {
   "cell_type": "markdown",
   "id": "14e309e9",
   "metadata": {},
   "source": [
    "### Analyzing train data"
   ]
  },
  {
   "cell_type": "code",
   "execution_count": 7,
   "id": "610d3a56",
   "metadata": {},
   "outputs": [],
   "source": [
    "def analyze_data(data):\n",
    "    \n",
    "    print(\"DataFrame Info:\")\n",
    "    print(\"=================================\")\n",
    "    display(data.info())\n",
    "    print(\"\\n\")\n",
    "    \n",
    "    print(\"DataFrame Values:\")\n",
    "    print(\"=================================\")\n",
    "    display(data.head())\n",
    "    print(\"\\n\")\n",
    "    \n",
    "    print(\"DataFrame Desscription\")\n",
    "    print(\"=================================\")\n",
    "    display(data.describe())\n",
    "    print(\"\\n\")\n",
    "    \n",
    "    print(\"Number of null values\")\n",
    "    print(\"=================================\")\n",
    "    display(data.isnull().sum())\n",
    "    print(\"\\n\")\n",
    "    \n",
    "    print(\"Number of duplicated values\")\n",
    "    print(\"==================================\")\n",
    "    display(data.duplicated().sum())\n",
    "    print(\"\\n\")\n",
    "    \n",
    "    print(\"Number of unique values\")\n",
    "    print(\"==================================\")\n",
    "    display(data.nunique())\n",
    "    print(\"\\n\")\n",
    "    \n",
    "    print(\"Dataframe Shape\")\n",
    "    print(\"===================================\")\n",
    "    print(f\"Rows: {data.shape[0]}, Columns: {data.shape[1]}\")\n",
    "    "
   ]
  },
  {
   "cell_type": "code",
   "execution_count": 8,
   "id": "6aa4ebce",
   "metadata": {},
   "outputs": [
    {
     "name": "stdout",
     "output_type": "stream",
     "text": [
      "DataFrame Info:\n",
      "=================================\n",
      "<class 'pandas.core.frame.DataFrame'>\n",
      "RangeIndex: 54273 entries, 0 to 54272\n",
      "Data columns (total 12 columns):\n",
      " #   Column        Non-Null Count  Dtype \n",
      "---  ------        --------------  ----- \n",
      " 0   brand         54273 non-null  object\n",
      " 1   model         54273 non-null  object\n",
      " 2   model_year    54273 non-null  int64 \n",
      " 3   milage        54273 non-null  int64 \n",
      " 4   fuel_type     54273 non-null  object\n",
      " 5   engine        54273 non-null  object\n",
      " 6   transmission  54273 non-null  object\n",
      " 7   ext_col       54273 non-null  object\n",
      " 8   int_col       54273 non-null  object\n",
      " 9   accident      54273 non-null  object\n",
      " 10  clean_title   54273 non-null  object\n",
      " 11  price         54273 non-null  int64 \n",
      "dtypes: int64(3), object(9)\n",
      "memory usage: 5.0+ MB\n"
     ]
    },
    {
     "data": {
      "text/plain": [
       "None"
      ]
     },
     "metadata": {},
     "output_type": "display_data"
    },
    {
     "name": "stdout",
     "output_type": "stream",
     "text": [
      "\n",
      "\n",
      "DataFrame Values:\n",
      "=================================\n"
     ]
    },
    {
     "data": {
      "text/html": [
       "<div>\n",
       "<style scoped>\n",
       "    .dataframe tbody tr th:only-of-type {\n",
       "        vertical-align: middle;\n",
       "    }\n",
       "\n",
       "    .dataframe tbody tr th {\n",
       "        vertical-align: top;\n",
       "    }\n",
       "\n",
       "    .dataframe thead th {\n",
       "        text-align: right;\n",
       "    }\n",
       "</style>\n",
       "<table border=\"1\" class=\"dataframe\">\n",
       "  <thead>\n",
       "    <tr style=\"text-align: right;\">\n",
       "      <th></th>\n",
       "      <th>brand</th>\n",
       "      <th>model</th>\n",
       "      <th>model_year</th>\n",
       "      <th>milage</th>\n",
       "      <th>fuel_type</th>\n",
       "      <th>engine</th>\n",
       "      <th>transmission</th>\n",
       "      <th>ext_col</th>\n",
       "      <th>int_col</th>\n",
       "      <th>accident</th>\n",
       "      <th>clean_title</th>\n",
       "      <th>price</th>\n",
       "    </tr>\n",
       "  </thead>\n",
       "  <tbody>\n",
       "    <tr>\n",
       "      <th>0</th>\n",
       "      <td>Ford</td>\n",
       "      <td>F-150 Lariat</td>\n",
       "      <td>2018</td>\n",
       "      <td>74349</td>\n",
       "      <td>Gasoline</td>\n",
       "      <td>375.0HP 3.5L V6 Cylinder Engine Gasoline Fuel</td>\n",
       "      <td>10-Speed A/T</td>\n",
       "      <td>Blue</td>\n",
       "      <td>Gray</td>\n",
       "      <td>None reported</td>\n",
       "      <td>Yes</td>\n",
       "      <td>11000</td>\n",
       "    </tr>\n",
       "    <tr>\n",
       "      <th>1</th>\n",
       "      <td>BMW</td>\n",
       "      <td>335 i</td>\n",
       "      <td>2007</td>\n",
       "      <td>80000</td>\n",
       "      <td>Gasoline</td>\n",
       "      <td>300.0HP 3.0L Straight 6 Cylinder Engine Gasoli...</td>\n",
       "      <td>6-Speed M/T</td>\n",
       "      <td>Black</td>\n",
       "      <td>Black</td>\n",
       "      <td>None reported</td>\n",
       "      <td>Yes</td>\n",
       "      <td>8250</td>\n",
       "    </tr>\n",
       "    <tr>\n",
       "      <th>2</th>\n",
       "      <td>Jaguar</td>\n",
       "      <td>XF Luxury</td>\n",
       "      <td>2009</td>\n",
       "      <td>91491</td>\n",
       "      <td>Gasoline</td>\n",
       "      <td>300.0HP 4.2L 8 Cylinder Engine Gasoline Fuel</td>\n",
       "      <td>6-Speed A/T</td>\n",
       "      <td>Purple</td>\n",
       "      <td>Beige</td>\n",
       "      <td>None reported</td>\n",
       "      <td>Yes</td>\n",
       "      <td>15000</td>\n",
       "    </tr>\n",
       "    <tr>\n",
       "      <th>3</th>\n",
       "      <td>BMW</td>\n",
       "      <td>X7 xDrive40i</td>\n",
       "      <td>2022</td>\n",
       "      <td>2437</td>\n",
       "      <td>Hybrid</td>\n",
       "      <td>335.0HP 3.0L Straight 6 Cylinder Engine Gasoli...</td>\n",
       "      <td>Transmission w/Dual Shift Mode</td>\n",
       "      <td>Gray</td>\n",
       "      <td>Brown</td>\n",
       "      <td>None reported</td>\n",
       "      <td>Yes</td>\n",
       "      <td>63500</td>\n",
       "    </tr>\n",
       "    <tr>\n",
       "      <th>4</th>\n",
       "      <td>Pontiac</td>\n",
       "      <td>Firebird Base</td>\n",
       "      <td>2001</td>\n",
       "      <td>111000</td>\n",
       "      <td>Gasoline</td>\n",
       "      <td>200.0HP 3.8L V6 Cylinder Engine Gasoline Fuel</td>\n",
       "      <td>A/T</td>\n",
       "      <td>White</td>\n",
       "      <td>Black</td>\n",
       "      <td>None reported</td>\n",
       "      <td>Yes</td>\n",
       "      <td>7850</td>\n",
       "    </tr>\n",
       "  </tbody>\n",
       "</table>\n",
       "</div>"
      ],
      "text/plain": [
       "     brand          model  model_year  milage fuel_type  \\\n",
       "0     Ford   F-150 Lariat        2018   74349  Gasoline   \n",
       "1      BMW          335 i        2007   80000  Gasoline   \n",
       "2   Jaguar      XF Luxury        2009   91491  Gasoline   \n",
       "3      BMW   X7 xDrive40i        2022    2437    Hybrid   \n",
       "4  Pontiac  Firebird Base        2001  111000  Gasoline   \n",
       "\n",
       "                                              engine  \\\n",
       "0      375.0HP 3.5L V6 Cylinder Engine Gasoline Fuel   \n",
       "1  300.0HP 3.0L Straight 6 Cylinder Engine Gasoli...   \n",
       "2       300.0HP 4.2L 8 Cylinder Engine Gasoline Fuel   \n",
       "3  335.0HP 3.0L Straight 6 Cylinder Engine Gasoli...   \n",
       "4      200.0HP 3.8L V6 Cylinder Engine Gasoline Fuel   \n",
       "\n",
       "                     transmission ext_col int_col       accident clean_title  \\\n",
       "0                    10-Speed A/T    Blue    Gray  None reported         Yes   \n",
       "1                     6-Speed M/T   Black   Black  None reported         Yes   \n",
       "2                     6-Speed A/T  Purple   Beige  None reported         Yes   \n",
       "3  Transmission w/Dual Shift Mode    Gray   Brown  None reported         Yes   \n",
       "4                             A/T   White   Black  None reported         Yes   \n",
       "\n",
       "   price  \n",
       "0  11000  \n",
       "1   8250  \n",
       "2  15000  \n",
       "3  63500  \n",
       "4   7850  "
      ]
     },
     "metadata": {},
     "output_type": "display_data"
    },
    {
     "name": "stdout",
     "output_type": "stream",
     "text": [
      "\n",
      "\n",
      "DataFrame Desscription\n",
      "=================================\n"
     ]
    },
    {
     "data": {
      "text/html": [
       "<div>\n",
       "<style scoped>\n",
       "    .dataframe tbody tr th:only-of-type {\n",
       "        vertical-align: middle;\n",
       "    }\n",
       "\n",
       "    .dataframe tbody tr th {\n",
       "        vertical-align: top;\n",
       "    }\n",
       "\n",
       "    .dataframe thead th {\n",
       "        text-align: right;\n",
       "    }\n",
       "</style>\n",
       "<table border=\"1\" class=\"dataframe\">\n",
       "  <thead>\n",
       "    <tr style=\"text-align: right;\">\n",
       "      <th></th>\n",
       "      <th>model_year</th>\n",
       "      <th>milage</th>\n",
       "      <th>price</th>\n",
       "    </tr>\n",
       "  </thead>\n",
       "  <tbody>\n",
       "    <tr>\n",
       "      <th>count</th>\n",
       "      <td>54273.000000</td>\n",
       "      <td>54273.000000</td>\n",
       "      <td>5.427300e+04</td>\n",
       "    </tr>\n",
       "    <tr>\n",
       "      <th>mean</th>\n",
       "      <td>2015.091979</td>\n",
       "      <td>72746.175667</td>\n",
       "      <td>3.921844e+04</td>\n",
       "    </tr>\n",
       "    <tr>\n",
       "      <th>std</th>\n",
       "      <td>5.588909</td>\n",
       "      <td>50469.490448</td>\n",
       "      <td>7.282634e+04</td>\n",
       "    </tr>\n",
       "    <tr>\n",
       "      <th>min</th>\n",
       "      <td>1974.000000</td>\n",
       "      <td>100.000000</td>\n",
       "      <td>2.000000e+03</td>\n",
       "    </tr>\n",
       "    <tr>\n",
       "      <th>25%</th>\n",
       "      <td>2012.000000</td>\n",
       "      <td>32268.000000</td>\n",
       "      <td>1.550000e+04</td>\n",
       "    </tr>\n",
       "    <tr>\n",
       "      <th>50%</th>\n",
       "      <td>2016.000000</td>\n",
       "      <td>66107.000000</td>\n",
       "      <td>2.800000e+04</td>\n",
       "    </tr>\n",
       "    <tr>\n",
       "      <th>75%</th>\n",
       "      <td>2019.000000</td>\n",
       "      <td>102000.000000</td>\n",
       "      <td>4.500000e+04</td>\n",
       "    </tr>\n",
       "    <tr>\n",
       "      <th>max</th>\n",
       "      <td>2024.000000</td>\n",
       "      <td>405000.000000</td>\n",
       "      <td>2.954083e+06</td>\n",
       "    </tr>\n",
       "  </tbody>\n",
       "</table>\n",
       "</div>"
      ],
      "text/plain": [
       "         model_year         milage         price\n",
       "count  54273.000000   54273.000000  5.427300e+04\n",
       "mean    2015.091979   72746.175667  3.921844e+04\n",
       "std        5.588909   50469.490448  7.282634e+04\n",
       "min     1974.000000     100.000000  2.000000e+03\n",
       "25%     2012.000000   32268.000000  1.550000e+04\n",
       "50%     2016.000000   66107.000000  2.800000e+04\n",
       "75%     2019.000000  102000.000000  4.500000e+04\n",
       "max     2024.000000  405000.000000  2.954083e+06"
      ]
     },
     "metadata": {},
     "output_type": "display_data"
    },
    {
     "name": "stdout",
     "output_type": "stream",
     "text": [
      "\n",
      "\n",
      "Number of null values\n",
      "=================================\n"
     ]
    },
    {
     "data": {
      "text/plain": [
       "brand           0\n",
       "model           0\n",
       "model_year      0\n",
       "milage          0\n",
       "fuel_type       0\n",
       "engine          0\n",
       "transmission    0\n",
       "ext_col         0\n",
       "int_col         0\n",
       "accident        0\n",
       "clean_title     0\n",
       "price           0\n",
       "dtype: int64"
      ]
     },
     "metadata": {},
     "output_type": "display_data"
    },
    {
     "name": "stdout",
     "output_type": "stream",
     "text": [
      "\n",
      "\n",
      "Number of duplicated values\n",
      "==================================\n"
     ]
    },
    {
     "data": {
      "text/plain": [
       "0"
      ]
     },
     "metadata": {},
     "output_type": "display_data"
    },
    {
     "name": "stdout",
     "output_type": "stream",
     "text": [
      "\n",
      "\n",
      "Number of unique values\n",
      "==================================\n"
     ]
    },
    {
     "data": {
      "text/plain": [
       "brand             53\n",
       "model           1827\n",
       "model_year        34\n",
       "milage          3212\n",
       "fuel_type          7\n",
       "engine          1061\n",
       "transmission      46\n",
       "ext_col          260\n",
       "int_col          124\n",
       "accident           2\n",
       "clean_title        1\n",
       "price           1481\n",
       "dtype: int64"
      ]
     },
     "metadata": {},
     "output_type": "display_data"
    },
    {
     "name": "stdout",
     "output_type": "stream",
     "text": [
      "\n",
      "\n",
      "Dataframe Shape\n",
      "===================================\n",
      "Rows: 54273, Columns: 12\n"
     ]
    }
   ],
   "source": [
    "analyze_data(train_data)"
   ]
  },
  {
   "cell_type": "code",
   "execution_count": 9,
   "id": "3c2d163f",
   "metadata": {},
   "outputs": [],
   "source": [
    "##dropping columns brand and model\n",
    "\n",
    "drop_columns(train_data,['brand','model'])\n",
    "drop_columns(test_data,['brand','model'])"
   ]
  },
  {
   "cell_type": "code",
   "execution_count": 10,
   "id": "698097bf",
   "metadata": {
    "scrolled": false
   },
   "outputs": [
    {
     "name": "stdout",
     "output_type": "stream",
     "text": [
      "Value counts for fuel type \n",
      "\n",
      " Gasoline          49439\n",
      "Hybrid             1766\n",
      "E85 Flex Fuel      1479\n",
      "Diesel             1109\n",
      "–                   294\n",
      "Plug-In Hybrid      182\n",
      "not supported         4\n",
      "Name: fuel_type, dtype: int64\n",
      "------\n",
      "Number of rows in engine column with '-' are 335\n",
      "-----\n",
      "Rows with '-' as fuel type and not '-' as engine \n",
      "\n",
      "\n"
     ]
    },
    {
     "data": {
      "text/html": [
       "<div>\n",
       "<style scoped>\n",
       "    .dataframe tbody tr th:only-of-type {\n",
       "        vertical-align: middle;\n",
       "    }\n",
       "\n",
       "    .dataframe tbody tr th {\n",
       "        vertical-align: top;\n",
       "    }\n",
       "\n",
       "    .dataframe thead th {\n",
       "        text-align: right;\n",
       "    }\n",
       "</style>\n",
       "<table border=\"1\" class=\"dataframe\">\n",
       "  <thead>\n",
       "    <tr style=\"text-align: right;\">\n",
       "      <th></th>\n",
       "      <th>model_year</th>\n",
       "      <th>milage</th>\n",
       "      <th>fuel_type</th>\n",
       "      <th>engine</th>\n",
       "      <th>transmission</th>\n",
       "      <th>ext_col</th>\n",
       "      <th>int_col</th>\n",
       "      <th>accident</th>\n",
       "      <th>clean_title</th>\n",
       "      <th>price</th>\n",
       "    </tr>\n",
       "  </thead>\n",
       "  <tbody>\n",
       "    <tr>\n",
       "      <th>29532</th>\n",
       "      <td>2019</td>\n",
       "      <td>4700</td>\n",
       "      <td>–</td>\n",
       "      <td>375.0HP 5.0L 8 Cylinder Engine Gasoline Fuel</td>\n",
       "      <td>A/T</td>\n",
       "      <td>Black</td>\n",
       "      <td>Black</td>\n",
       "      <td>None reported</td>\n",
       "      <td>Yes</td>\n",
       "      <td>65000</td>\n",
       "    </tr>\n",
       "    <tr>\n",
       "      <th>33224</th>\n",
       "      <td>2013</td>\n",
       "      <td>2958</td>\n",
       "      <td>–</td>\n",
       "      <td>6.8L V12 48V GDI DOHC</td>\n",
       "      <td>8-Speed Automatic</td>\n",
       "      <td>Yellow</td>\n",
       "      <td>–</td>\n",
       "      <td>None reported</td>\n",
       "      <td>Yes</td>\n",
       "      <td>488880</td>\n",
       "    </tr>\n",
       "    <tr>\n",
       "      <th>35862</th>\n",
       "      <td>2011</td>\n",
       "      <td>188000</td>\n",
       "      <td>–</td>\n",
       "      <td>210.0HP 3.7L V6 Cylinder Engine Gasoline Fuel</td>\n",
       "      <td>A/T</td>\n",
       "      <td>Silver</td>\n",
       "      <td>Gray</td>\n",
       "      <td>At least 1 accident or damage reported</td>\n",
       "      <td>Yes</td>\n",
       "      <td>6500</td>\n",
       "    </tr>\n",
       "  </tbody>\n",
       "</table>\n",
       "</div>"
      ],
      "text/plain": [
       "       model_year  milage fuel_type  \\\n",
       "29532        2019    4700         –   \n",
       "33224        2013    2958         –   \n",
       "35862        2011  188000         –   \n",
       "\n",
       "                                              engine       transmission  \\\n",
       "29532   375.0HP 5.0L 8 Cylinder Engine Gasoline Fuel                A/T   \n",
       "33224                          6.8L V12 48V GDI DOHC  8-Speed Automatic   \n",
       "35862  210.0HP 3.7L V6 Cylinder Engine Gasoline Fuel                A/T   \n",
       "\n",
       "      ext_col int_col                                accident clean_title  \\\n",
       "29532   Black   Black                           None reported         Yes   \n",
       "33224  Yellow       –                           None reported         Yes   \n",
       "35862  Silver    Gray  At least 1 accident or damage reported         Yes   \n",
       "\n",
       "        price  \n",
       "29532   65000  \n",
       "33224  488880  \n",
       "35862    6500  "
      ]
     },
     "execution_count": 10,
     "metadata": {},
     "output_type": "execute_result"
    }
   ],
   "source": [
    "## fuel_type\n",
    "\n",
    "print(\"Value counts for fuel type \\n\\n\", train_data['fuel_type'].value_counts())\n",
    "\n",
    "print(\"------\")\n",
    "print(\"Number of rows in engine column with '-' are\", len(train_data.loc[train_data['engine']==\"–\"]))\n",
    "\n",
    "print(\"-----\")\n",
    "print(\"Rows with '-' as fuel type and not '-' as engine \\n\\n\")\n",
    "train_data.loc[(train_data['fuel_type']=='–')&(train_data['engine']!='–')]"
   ]
  },
  {
   "cell_type": "code",
   "execution_count": 11,
   "id": "924a9a5a",
   "metadata": {},
   "outputs": [
    {
     "name": "stdout",
     "output_type": "stream",
     "text": [
      "Rows with 'not supported' as fuel type\n"
     ]
    },
    {
     "data": {
      "text/html": [
       "<div>\n",
       "<style scoped>\n",
       "    .dataframe tbody tr th:only-of-type {\n",
       "        vertical-align: middle;\n",
       "    }\n",
       "\n",
       "    .dataframe tbody tr th {\n",
       "        vertical-align: top;\n",
       "    }\n",
       "\n",
       "    .dataframe thead th {\n",
       "        text-align: right;\n",
       "    }\n",
       "</style>\n",
       "<table border=\"1\" class=\"dataframe\">\n",
       "  <thead>\n",
       "    <tr style=\"text-align: right;\">\n",
       "      <th></th>\n",
       "      <th>model_year</th>\n",
       "      <th>milage</th>\n",
       "      <th>fuel_type</th>\n",
       "      <th>engine</th>\n",
       "      <th>transmission</th>\n",
       "      <th>ext_col</th>\n",
       "      <th>int_col</th>\n",
       "      <th>accident</th>\n",
       "      <th>clean_title</th>\n",
       "      <th>price</th>\n",
       "    </tr>\n",
       "  </thead>\n",
       "  <tbody>\n",
       "    <tr>\n",
       "      <th>1069</th>\n",
       "      <td>2016</td>\n",
       "      <td>40000</td>\n",
       "      <td>not supported</td>\n",
       "      <td>151.0HP Electric Motor Hydrogen Fuel</td>\n",
       "      <td>A/T</td>\n",
       "      <td>Silver</td>\n",
       "      <td>Black</td>\n",
       "      <td>None reported</td>\n",
       "      <td>Yes</td>\n",
       "      <td>14000</td>\n",
       "    </tr>\n",
       "    <tr>\n",
       "      <th>9621</th>\n",
       "      <td>2023</td>\n",
       "      <td>29553</td>\n",
       "      <td>not supported</td>\n",
       "      <td>182.0HP Electric Motor Hydrogen Fuel</td>\n",
       "      <td>A/T</td>\n",
       "      <td>Silver</td>\n",
       "      <td>Gray</td>\n",
       "      <td>None reported</td>\n",
       "      <td>Yes</td>\n",
       "      <td>9995</td>\n",
       "    </tr>\n",
       "    <tr>\n",
       "      <th>11441</th>\n",
       "      <td>2018</td>\n",
       "      <td>40000</td>\n",
       "      <td>not supported</td>\n",
       "      <td>182.0HP Electric Motor Hydrogen Fuel</td>\n",
       "      <td>A/T</td>\n",
       "      <td>Silver</td>\n",
       "      <td>Gray</td>\n",
       "      <td>None reported</td>\n",
       "      <td>Yes</td>\n",
       "      <td>7500</td>\n",
       "    </tr>\n",
       "    <tr>\n",
       "      <th>21771</th>\n",
       "      <td>2017</td>\n",
       "      <td>92000</td>\n",
       "      <td>not supported</td>\n",
       "      <td>390.0HP 5.6L 8 Cylinder Engine Gasoline Fuel</td>\n",
       "      <td>Transmission w/Dual Shift Mode</td>\n",
       "      <td>Gray</td>\n",
       "      <td>Black</td>\n",
       "      <td>None reported</td>\n",
       "      <td>Yes</td>\n",
       "      <td>20900</td>\n",
       "    </tr>\n",
       "  </tbody>\n",
       "</table>\n",
       "</div>"
      ],
      "text/plain": [
       "       model_year  milage      fuel_type  \\\n",
       "1069         2016   40000  not supported   \n",
       "9621         2023   29553  not supported   \n",
       "11441        2018   40000  not supported   \n",
       "21771        2017   92000  not supported   \n",
       "\n",
       "                                             engine  \\\n",
       "1069           151.0HP Electric Motor Hydrogen Fuel   \n",
       "9621           182.0HP Electric Motor Hydrogen Fuel   \n",
       "11441          182.0HP Electric Motor Hydrogen Fuel   \n",
       "21771  390.0HP 5.6L 8 Cylinder Engine Gasoline Fuel   \n",
       "\n",
       "                         transmission ext_col int_col       accident  \\\n",
       "1069                              A/T  Silver   Black  None reported   \n",
       "9621                              A/T  Silver    Gray  None reported   \n",
       "11441                             A/T  Silver    Gray  None reported   \n",
       "21771  Transmission w/Dual Shift Mode    Gray   Black  None reported   \n",
       "\n",
       "      clean_title  price  \n",
       "1069          Yes  14000  \n",
       "9621          Yes   9995  \n",
       "11441         Yes   7500  \n",
       "21771         Yes  20900  "
      ]
     },
     "execution_count": 11,
     "metadata": {},
     "output_type": "execute_result"
    }
   ],
   "source": [
    "print(\"Rows with 'not supported' as fuel type\")\n",
    "train_data.loc[(train_data['fuel_type']=='not supported')]"
   ]
  },
  {
   "cell_type": "markdown",
   "id": "6f5c130c",
   "metadata": {},
   "source": [
    "1. There are 3 rows with engine information. It seems fuel type is Gasoline from engine description. We can replace \"-\" by Gasoline for respective rows.\n",
    "\n",
    "2. There is no corresponding information in engine column for all other rows with '-' in fuel_type column. So we can drop it.\n",
    "\n",
    "3. We can see that \"not supported\" fuel_type. There are fuel types mentioned in engine column. We can replace the same."
   ]
  },
  {
   "cell_type": "code",
   "execution_count": 12,
   "id": "bfc9a6ce",
   "metadata": {},
   "outputs": [],
   "source": [
    "def feature_engg_1(data):\n",
    "    #Age of car using model year\n",
    "    data['age'] = 2024 - data['model_year']\n",
    "    #Dropping model_year column\n",
    "    data.drop(columns='model_year',axis=1,inplace=True)\n",
    "    \n",
    "    #replacing values in fuel_type column\n",
    "    data['fuel_type'].loc[(data['fuel_type']=='–')&(data['engine']!='–')] = 'Gasoline'\n",
    "    data['fuel_type'].loc[(data['fuel_type']=='not supported')&(data['engine'].str.contains('Hydrogen'))] = 'Hydrogen'\n",
    "    data['fuel_type'].loc[(data['fuel_type']=='not supported')&(data['engine'].str.contains('Gasoline'))] = 'Gasoline'\n",
    "    \n",
    "    #replacing values with '-' as fuel_type\n",
    "    data['fuel_type'].replace('–','Gasoline')\n",
    "    print(\"Number of rows with '–' as fuel type\", len(data.loc[data['fuel_type']=='–']))\n",
    "    \n",
    "    #one hot encoding of fuel_type column\n",
    "    data = pd.get_dummies(data, columns=['fuel_type'])\n",
    "    pd.DataFrame(data)\n",
    "    return data"
   ]
  },
  {
   "cell_type": "code",
   "execution_count": 13,
   "id": "2eabbd38",
   "metadata": {},
   "outputs": [
    {
     "name": "stdout",
     "output_type": "stream",
     "text": [
      "Number of rows with '–' as fuel type 291\n",
      "Number of rows with '–' as fuel type 195\n"
     ]
    }
   ],
   "source": [
    "train_data = feature_engg_1(train_data)\n",
    "test_data = feature_engg_1(test_data)"
   ]
  },
  {
   "cell_type": "code",
   "execution_count": 14,
   "id": "a4955e29",
   "metadata": {},
   "outputs": [],
   "source": [
    "def feature_engg_2(data):\n",
    "    split_engine = data['engine'].str.split(\" \",expand=True)\n",
    "\n",
    "    split_engine.loc[split_engine[0].str.contains('HP'),'horsepower'] = split_engine.loc[split_engine[0].str.contains('HP'),0].str.replace('HP',\"\").astype(float)\n",
    "\n",
    "    split_engine.loc[(split_engine[0].str.contains('HP'))&(split_engine[1].str.contains('L')),'litres'] = split_engine.loc[(split_engine[0].str.contains('HP'))&(split_engine[1].str.contains('L')),1].str.replace('L',\"\").astype(float)\n",
    "\n",
    "    split_engine.loc[(split_engine[0].str.contains('HP'))&(split_engine[3]=='Cylinder'),'cylinders'] = split_engine.loc[(split_engine[0].str.contains('HP'))&(split_engine[3]=='Cylinder'),2].str.replace('V',\"\").astype(float)\n",
    "\n",
    "    split_engine.loc[~(split_engine[0].str.contains('HP'))&(split_engine[0].str.contains('L')),'horsepower'] = pd.to_numeric(split_engine.loc[~(split_engine[0].str.contains('HP'))&(split_engine[0].str.contains('L')),0].str.replace('L',\"\"),errors='coerce')\n",
    "\n",
    "    split_engine.loc[~(split_engine[0].str.contains('HP'))&(split_engine[0].str.contains('L')),'litres'] = pd.to_numeric(split_engine.loc[~(split_engine[0].str.contains('HP'))&(split_engine[0].str.contains('L')),0].str.replace('L',\"\"),errors='coerce')\n",
    "\n",
    "    split_engine.loc[~(split_engine[0].str.contains('HP'))&(split_engine[0].str.contains('V')) & (split_engine['cylinders'].isnull()),'cylinders'] = abs(pd.to_numeric(split_engine.loc[~(split_engine[0].str.contains('HP'))&(split_engine[0].str.contains('V'))][0].str.replace('V',''),errors='coerce'))\n",
    "\n",
    "    split_engine.loc[(~split_engine[0].str.contains('HP')) & (split_engine[1].str.contains('I')), 'cylinders'] = abs(pd.to_numeric(split_engine.loc[(~split_engine[0].str.contains('HP')) & (split_engine[1].str.contains('I'))][1].str.replace('I', '')))\n",
    "\n",
    "    split_engine.loc[(~split_engine[0].str.contains('HP')) & (split_engine[1].str.contains('H')), 'cylinders'] = abs(pd.to_numeric(split_engine.loc[(~split_engine[0].str.contains('HP')) & (split_engine[1].str.contains('H'))][1].str.replace('H', ''), errors = 'coerce'))\n",
    "\n",
    "    split_engine.loc[(~split_engine[0].str.contains('HP')) & (split_engine[1].str.contains('W')), 'cylinders'] = abs(pd.to_numeric(split_engine.loc[(~split_engine[0].str.contains('HP')) & (split_engine[1].str.contains('W'))][1].str.replace('W', ''), errors = 'coerce'))\n",
    "\n",
    "    split_engine.loc[(~split_engine[0].str.contains('HP')) & (split_engine[1].str.contains('V')), 'cylinders'] = abs(pd.to_numeric(split_engine.loc[(~split_engine[0].str.contains('HP')) & (split_engine[1].str.contains('V'))][1].str.replace('V', ''), errors = 'coerce'))\n",
    "\n",
    "    split_engine.loc[(~split_engine[0].str.contains('HP')) & (split_engine[1].isin([str(x) for x in list(range(20))])), 'cylinders'] = split_engine.loc[(~split_engine[0].str.contains('HP')) & (split_engine[1].isin([str(x) for x in list(range(20))]))][1].astype(float)\n",
    "\n",
    "    split_engine.loc[(~split_engine[0].str.contains('HP')) & (split_engine[3].str.contains('V')) & (split_engine['cylinders'].isnull()), 'cylinders'] = abs(pd.to_numeric(split_engine.loc[(~split_engine[0].str.contains('HP')) & (split_engine[3].str.contains('V')) & (split_engine['cylinders'].isnull())][3].str.replace('V', ''), errors = 'coerce'))\n",
    "\n",
    "    split_engine['cylinders'].fillna(split_engine['cylinders'].median(), inplace=True)\n",
    "\n",
    "    split_engine['horsepower'].fillna(split_engine['horsepower'].median(), inplace=True)\n",
    "\n",
    "    split_engine['litres'].fillna(split_engine['horsepower'].median(),inplace=True)\n",
    "\n",
    "    data = pd.concat([data, split_engine[['horsepower', 'litres', 'cylinders']]], axis = 1)\n",
    "    \n",
    "    return data"
   ]
  },
  {
   "cell_type": "code",
   "execution_count": 15,
   "id": "4a338f89",
   "metadata": {},
   "outputs": [],
   "source": [
    "train_data = feature_engg_2(train_data)\n",
    "test_data = feature_engg_2(test_data)"
   ]
  },
  {
   "cell_type": "code",
   "execution_count": 16,
   "id": "c0ad39d7",
   "metadata": {},
   "outputs": [
    {
     "name": "stdout",
     "output_type": "stream",
     "text": [
      "(54273, 19) and (36183, 18)\n"
     ]
    }
   ],
   "source": [
    "print(f'{train_data.shape} and {test_data.shape}')"
   ]
  },
  {
   "cell_type": "code",
   "execution_count": 17,
   "id": "b8e80bc9",
   "metadata": {},
   "outputs": [],
   "source": [
    "## dropping engine, ext_col, int_col column\n",
    "\n",
    "drop_columns(train_data,columns=['engine','ext_col','int_col'])\n",
    "drop_columns(test_data,columns=['engine','ext_col','int_col'])"
   ]
  },
  {
   "cell_type": "code",
   "execution_count": 18,
   "id": "62665bb5",
   "metadata": {},
   "outputs": [
    {
     "data": {
      "text/html": [
       "<div>\n",
       "<style scoped>\n",
       "    .dataframe tbody tr th:only-of-type {\n",
       "        vertical-align: middle;\n",
       "    }\n",
       "\n",
       "    .dataframe tbody tr th {\n",
       "        vertical-align: top;\n",
       "    }\n",
       "\n",
       "    .dataframe thead th {\n",
       "        text-align: right;\n",
       "    }\n",
       "</style>\n",
       "<table border=\"1\" class=\"dataframe\">\n",
       "  <thead>\n",
       "    <tr style=\"text-align: right;\">\n",
       "      <th></th>\n",
       "      <th>milage</th>\n",
       "      <th>transmission</th>\n",
       "      <th>accident</th>\n",
       "      <th>clean_title</th>\n",
       "      <th>price</th>\n",
       "      <th>age</th>\n",
       "      <th>fuel_type_Diesel</th>\n",
       "      <th>fuel_type_E85 Flex Fuel</th>\n",
       "      <th>fuel_type_Gasoline</th>\n",
       "      <th>fuel_type_Hybrid</th>\n",
       "      <th>fuel_type_Hydrogen</th>\n",
       "      <th>fuel_type_Plug-In Hybrid</th>\n",
       "      <th>fuel_type_–</th>\n",
       "      <th>horsepower</th>\n",
       "      <th>litres</th>\n",
       "      <th>cylinders</th>\n",
       "    </tr>\n",
       "  </thead>\n",
       "  <tbody>\n",
       "    <tr>\n",
       "      <th>0</th>\n",
       "      <td>74349</td>\n",
       "      <td>10-Speed A/T</td>\n",
       "      <td>None reported</td>\n",
       "      <td>Yes</td>\n",
       "      <td>11000</td>\n",
       "      <td>6</td>\n",
       "      <td>0</td>\n",
       "      <td>0</td>\n",
       "      <td>1</td>\n",
       "      <td>0</td>\n",
       "      <td>0</td>\n",
       "      <td>0</td>\n",
       "      <td>0</td>\n",
       "      <td>375.0</td>\n",
       "      <td>3.5</td>\n",
       "      <td>6.0</td>\n",
       "    </tr>\n",
       "    <tr>\n",
       "      <th>1</th>\n",
       "      <td>80000</td>\n",
       "      <td>6-Speed M/T</td>\n",
       "      <td>None reported</td>\n",
       "      <td>Yes</td>\n",
       "      <td>8250</td>\n",
       "      <td>17</td>\n",
       "      <td>0</td>\n",
       "      <td>0</td>\n",
       "      <td>1</td>\n",
       "      <td>0</td>\n",
       "      <td>0</td>\n",
       "      <td>0</td>\n",
       "      <td>0</td>\n",
       "      <td>300.0</td>\n",
       "      <td>3.0</td>\n",
       "      <td>6.0</td>\n",
       "    </tr>\n",
       "    <tr>\n",
       "      <th>2</th>\n",
       "      <td>91491</td>\n",
       "      <td>6-Speed A/T</td>\n",
       "      <td>None reported</td>\n",
       "      <td>Yes</td>\n",
       "      <td>15000</td>\n",
       "      <td>15</td>\n",
       "      <td>0</td>\n",
       "      <td>0</td>\n",
       "      <td>1</td>\n",
       "      <td>0</td>\n",
       "      <td>0</td>\n",
       "      <td>0</td>\n",
       "      <td>0</td>\n",
       "      <td>300.0</td>\n",
       "      <td>4.2</td>\n",
       "      <td>8.0</td>\n",
       "    </tr>\n",
       "    <tr>\n",
       "      <th>3</th>\n",
       "      <td>2437</td>\n",
       "      <td>Transmission w/Dual Shift Mode</td>\n",
       "      <td>None reported</td>\n",
       "      <td>Yes</td>\n",
       "      <td>63500</td>\n",
       "      <td>2</td>\n",
       "      <td>0</td>\n",
       "      <td>0</td>\n",
       "      <td>0</td>\n",
       "      <td>1</td>\n",
       "      <td>0</td>\n",
       "      <td>0</td>\n",
       "      <td>0</td>\n",
       "      <td>335.0</td>\n",
       "      <td>3.0</td>\n",
       "      <td>6.0</td>\n",
       "    </tr>\n",
       "    <tr>\n",
       "      <th>4</th>\n",
       "      <td>111000</td>\n",
       "      <td>A/T</td>\n",
       "      <td>None reported</td>\n",
       "      <td>Yes</td>\n",
       "      <td>7850</td>\n",
       "      <td>23</td>\n",
       "      <td>0</td>\n",
       "      <td>0</td>\n",
       "      <td>1</td>\n",
       "      <td>0</td>\n",
       "      <td>0</td>\n",
       "      <td>0</td>\n",
       "      <td>0</td>\n",
       "      <td>200.0</td>\n",
       "      <td>3.8</td>\n",
       "      <td>6.0</td>\n",
       "    </tr>\n",
       "  </tbody>\n",
       "</table>\n",
       "</div>"
      ],
      "text/plain": [
       "   milage                    transmission       accident clean_title  price  \\\n",
       "0   74349                    10-Speed A/T  None reported         Yes  11000   \n",
       "1   80000                     6-Speed M/T  None reported         Yes   8250   \n",
       "2   91491                     6-Speed A/T  None reported         Yes  15000   \n",
       "3    2437  Transmission w/Dual Shift Mode  None reported         Yes  63500   \n",
       "4  111000                             A/T  None reported         Yes   7850   \n",
       "\n",
       "   age  fuel_type_Diesel  fuel_type_E85 Flex Fuel  fuel_type_Gasoline  \\\n",
       "0    6                 0                        0                   1   \n",
       "1   17                 0                        0                   1   \n",
       "2   15                 0                        0                   1   \n",
       "3    2                 0                        0                   0   \n",
       "4   23                 0                        0                   1   \n",
       "\n",
       "   fuel_type_Hybrid  fuel_type_Hydrogen  fuel_type_Plug-In Hybrid  \\\n",
       "0                 0                   0                         0   \n",
       "1                 0                   0                         0   \n",
       "2                 0                   0                         0   \n",
       "3                 1                   0                         0   \n",
       "4                 0                   0                         0   \n",
       "\n",
       "   fuel_type_–  horsepower  litres  cylinders  \n",
       "0            0       375.0     3.5        6.0  \n",
       "1            0       300.0     3.0        6.0  \n",
       "2            0       300.0     4.2        8.0  \n",
       "3            0       335.0     3.0        6.0  \n",
       "4            0       200.0     3.8        6.0  "
      ]
     },
     "execution_count": 18,
     "metadata": {},
     "output_type": "execute_result"
    }
   ],
   "source": [
    "train_data.head()"
   ]
  },
  {
   "cell_type": "code",
   "execution_count": 19,
   "id": "975ce8a9",
   "metadata": {
    "scrolled": true
   },
   "outputs": [],
   "source": [
    "def feature_engg_3(data):\n",
    "    transmission_split = data['transmission'].str.split(\"-Speed\",expand=True)\n",
    "    \n",
    "    transmission_split['speed'] = transmission_split[0].apply(pd.to_numeric, errors='coerce')\n",
    "    transmission_split['speed'].fillna(transmission_split['speed'].median(),inplace=True)\n",
    "\n",
    "\n",
    "    transmission_split.loc[transmission_split[0].str.contains('A/T'),'transmission_type'] = 'automatic'\n",
    "    transmission_split.loc[transmission_split[0].str.contains('Automatic'),'transmission_type'] = 'automatic'\n",
    "    transmission_split.loc[transmission_split[0].str.contains('Transmission w/Dual Shift Mode'),'transmission_type'] = 'Transmission w/Dual Shift Mode'\n",
    "    transmission_split.loc[transmission_split[0].str.contains('M/T'),'transmission_type'] = 'manual'\n",
    "    transmission_split.loc[transmission_split[1].str.contains('M/T',na=False),'transmission_type'] = 'manual'\n",
    "    transmission_split.loc[transmission_split[1].str.contains('A/T',na=False),'transmission_type'] = 'automatic'\n",
    "    transmission_split.loc[transmission_split[1].str.contains('Automatic',na=False),'transmission_type'] = 'automatic'\n",
    "    transmission_split['transmission_type'].fillna('automatic',inplace=True)\n",
    "    \n",
    "    data = pd.concat([data, transmission_split[['speed','transmission_type']]],axis=1)\n",
    "    data = pd.get_dummies(data,columns=['transmission_type'])\n",
    "    \n",
    "    return data"
   ]
  },
  {
   "cell_type": "code",
   "execution_count": 20,
   "id": "bec27c44",
   "metadata": {},
   "outputs": [],
   "source": [
    "train_data = feature_engg_3(train_data)\n",
    "test_data = feature_engg_3(test_data)"
   ]
  },
  {
   "cell_type": "code",
   "execution_count": 21,
   "id": "d8fd4b21",
   "metadata": {},
   "outputs": [],
   "source": [
    "drop_columns(train_data,'transmission')\n",
    "drop_columns(test_data,'transmission')"
   ]
  },
  {
   "cell_type": "code",
   "execution_count": 22,
   "id": "e75bf170",
   "metadata": {
    "scrolled": true
   },
   "outputs": [
    {
     "name": "stdout",
     "output_type": "stream",
     "text": [
      "(54273, 19) and (36183, 18)\n"
     ]
    }
   ],
   "source": [
    "print(f'{train_data.shape} and {test_data.shape}')"
   ]
  },
  {
   "cell_type": "code",
   "execution_count": 23,
   "id": "fc07e61b",
   "metadata": {},
   "outputs": [
    {
     "data": {
      "text/plain": [
       "Index(['milage', 'accident', 'clean_title', 'price', 'age', 'fuel_type_Diesel',\n",
       "       'fuel_type_E85 Flex Fuel', 'fuel_type_Gasoline', 'fuel_type_Hybrid',\n",
       "       'fuel_type_Hydrogen', 'fuel_type_Plug-In Hybrid', 'fuel_type_–',\n",
       "       'horsepower', 'litres', 'cylinders', 'speed',\n",
       "       'transmission_type_Transmission w/Dual Shift Mode',\n",
       "       'transmission_type_automatic', 'transmission_type_manual'],\n",
       "      dtype='object')"
      ]
     },
     "execution_count": 23,
     "metadata": {},
     "output_type": "execute_result"
    }
   ],
   "source": [
    "train_data.columns"
   ]
  },
  {
   "cell_type": "code",
   "execution_count": 24,
   "id": "95c1eb00",
   "metadata": {
    "scrolled": true
   },
   "outputs": [
    {
     "data": {
      "text/plain": [
       "Index(['milage', 'accident', 'clean_title', 'age', 'fuel_type_Diesel',\n",
       "       'fuel_type_E85 Flex Fuel', 'fuel_type_Gasoline', 'fuel_type_Hybrid',\n",
       "       'fuel_type_Hydrogen', 'fuel_type_Plug-In Hybrid', 'fuel_type_–',\n",
       "       'horsepower', 'litres', 'cylinders', 'speed',\n",
       "       'transmission_type_Transmission w/Dual Shift Mode',\n",
       "       'transmission_type_automatic', 'transmission_type_manual'],\n",
       "      dtype='object')"
      ]
     },
     "execution_count": 24,
     "metadata": {},
     "output_type": "execute_result"
    }
   ],
   "source": [
    "test_data.columns"
   ]
  },
  {
   "cell_type": "code",
   "execution_count": 25,
   "id": "4bdbdf81",
   "metadata": {},
   "outputs": [
    {
     "data": {
      "text/plain": [
       "Yes    54273\n",
       "Name: clean_title, dtype: int64"
      ]
     },
     "execution_count": 25,
     "metadata": {},
     "output_type": "execute_result"
    }
   ],
   "source": [
    "train_data['clean_title'].value_counts()"
   ]
  },
  {
   "cell_type": "code",
   "execution_count": 26,
   "id": "e8d958fd",
   "metadata": {},
   "outputs": [],
   "source": [
    "def feature_engg_4(data):\n",
    "    data.loc[data['accident'].str.contains('None',na=False),'accident'] = 0\n",
    "    data.loc[data['accident'].str.contains('1',na=False),'accident'] = 1\n",
    "    data['accident'] = data['accident'].astype(float)\n",
    "    data = pd.get_dummies(data,columns=['clean_title'])\n",
    "    \n",
    "    return data"
   ]
  },
  {
   "cell_type": "code",
   "execution_count": 27,
   "id": "cfc731d5",
   "metadata": {},
   "outputs": [],
   "source": [
    "train_data=feature_engg_4(train_data)\n",
    "test_data = feature_engg_4(test_data)"
   ]
  },
  {
   "cell_type": "code",
   "execution_count": 28,
   "id": "5fb332a6",
   "metadata": {
    "scrolled": true
   },
   "outputs": [
    {
     "data": {
      "text/html": [
       "<div>\n",
       "<style scoped>\n",
       "    .dataframe tbody tr th:only-of-type {\n",
       "        vertical-align: middle;\n",
       "    }\n",
       "\n",
       "    .dataframe tbody tr th {\n",
       "        vertical-align: top;\n",
       "    }\n",
       "\n",
       "    .dataframe thead th {\n",
       "        text-align: right;\n",
       "    }\n",
       "</style>\n",
       "<table border=\"1\" class=\"dataframe\">\n",
       "  <thead>\n",
       "    <tr style=\"text-align: right;\">\n",
       "      <th></th>\n",
       "      <th>milage</th>\n",
       "      <th>accident</th>\n",
       "      <th>price</th>\n",
       "      <th>age</th>\n",
       "      <th>fuel_type_Diesel</th>\n",
       "      <th>fuel_type_E85 Flex Fuel</th>\n",
       "      <th>fuel_type_Gasoline</th>\n",
       "      <th>fuel_type_Hybrid</th>\n",
       "      <th>fuel_type_Hydrogen</th>\n",
       "      <th>fuel_type_Plug-In Hybrid</th>\n",
       "      <th>fuel_type_–</th>\n",
       "      <th>horsepower</th>\n",
       "      <th>litres</th>\n",
       "      <th>cylinders</th>\n",
       "      <th>speed</th>\n",
       "      <th>transmission_type_Transmission w/Dual Shift Mode</th>\n",
       "      <th>transmission_type_automatic</th>\n",
       "      <th>transmission_type_manual</th>\n",
       "      <th>clean_title_Yes</th>\n",
       "    </tr>\n",
       "  </thead>\n",
       "  <tbody>\n",
       "    <tr>\n",
       "      <th>0</th>\n",
       "      <td>74349</td>\n",
       "      <td>0.0</td>\n",
       "      <td>11000</td>\n",
       "      <td>6</td>\n",
       "      <td>0</td>\n",
       "      <td>0</td>\n",
       "      <td>1</td>\n",
       "      <td>0</td>\n",
       "      <td>0</td>\n",
       "      <td>0</td>\n",
       "      <td>0</td>\n",
       "      <td>375.0</td>\n",
       "      <td>3.5</td>\n",
       "      <td>6.0</td>\n",
       "      <td>10.0</td>\n",
       "      <td>0</td>\n",
       "      <td>1</td>\n",
       "      <td>0</td>\n",
       "      <td>1</td>\n",
       "    </tr>\n",
       "    <tr>\n",
       "      <th>1</th>\n",
       "      <td>80000</td>\n",
       "      <td>0.0</td>\n",
       "      <td>8250</td>\n",
       "      <td>17</td>\n",
       "      <td>0</td>\n",
       "      <td>0</td>\n",
       "      <td>1</td>\n",
       "      <td>0</td>\n",
       "      <td>0</td>\n",
       "      <td>0</td>\n",
       "      <td>0</td>\n",
       "      <td>300.0</td>\n",
       "      <td>3.0</td>\n",
       "      <td>6.0</td>\n",
       "      <td>6.0</td>\n",
       "      <td>0</td>\n",
       "      <td>0</td>\n",
       "      <td>1</td>\n",
       "      <td>1</td>\n",
       "    </tr>\n",
       "    <tr>\n",
       "      <th>2</th>\n",
       "      <td>91491</td>\n",
       "      <td>0.0</td>\n",
       "      <td>15000</td>\n",
       "      <td>15</td>\n",
       "      <td>0</td>\n",
       "      <td>0</td>\n",
       "      <td>1</td>\n",
       "      <td>0</td>\n",
       "      <td>0</td>\n",
       "      <td>0</td>\n",
       "      <td>0</td>\n",
       "      <td>300.0</td>\n",
       "      <td>4.2</td>\n",
       "      <td>8.0</td>\n",
       "      <td>6.0</td>\n",
       "      <td>0</td>\n",
       "      <td>1</td>\n",
       "      <td>0</td>\n",
       "      <td>1</td>\n",
       "    </tr>\n",
       "    <tr>\n",
       "      <th>3</th>\n",
       "      <td>2437</td>\n",
       "      <td>0.0</td>\n",
       "      <td>63500</td>\n",
       "      <td>2</td>\n",
       "      <td>0</td>\n",
       "      <td>0</td>\n",
       "      <td>0</td>\n",
       "      <td>1</td>\n",
       "      <td>0</td>\n",
       "      <td>0</td>\n",
       "      <td>0</td>\n",
       "      <td>335.0</td>\n",
       "      <td>3.0</td>\n",
       "      <td>6.0</td>\n",
       "      <td>7.0</td>\n",
       "      <td>1</td>\n",
       "      <td>0</td>\n",
       "      <td>0</td>\n",
       "      <td>1</td>\n",
       "    </tr>\n",
       "    <tr>\n",
       "      <th>4</th>\n",
       "      <td>111000</td>\n",
       "      <td>0.0</td>\n",
       "      <td>7850</td>\n",
       "      <td>23</td>\n",
       "      <td>0</td>\n",
       "      <td>0</td>\n",
       "      <td>1</td>\n",
       "      <td>0</td>\n",
       "      <td>0</td>\n",
       "      <td>0</td>\n",
       "      <td>0</td>\n",
       "      <td>200.0</td>\n",
       "      <td>3.8</td>\n",
       "      <td>6.0</td>\n",
       "      <td>7.0</td>\n",
       "      <td>0</td>\n",
       "      <td>1</td>\n",
       "      <td>0</td>\n",
       "      <td>1</td>\n",
       "    </tr>\n",
       "  </tbody>\n",
       "</table>\n",
       "</div>"
      ],
      "text/plain": [
       "   milage  accident  price  age  fuel_type_Diesel  fuel_type_E85 Flex Fuel  \\\n",
       "0   74349       0.0  11000    6                 0                        0   \n",
       "1   80000       0.0   8250   17                 0                        0   \n",
       "2   91491       0.0  15000   15                 0                        0   \n",
       "3    2437       0.0  63500    2                 0                        0   \n",
       "4  111000       0.0   7850   23                 0                        0   \n",
       "\n",
       "   fuel_type_Gasoline  fuel_type_Hybrid  fuel_type_Hydrogen  \\\n",
       "0                   1                 0                   0   \n",
       "1                   1                 0                   0   \n",
       "2                   1                 0                   0   \n",
       "3                   0                 1                   0   \n",
       "4                   1                 0                   0   \n",
       "\n",
       "   fuel_type_Plug-In Hybrid  fuel_type_–  horsepower  litres  cylinders  \\\n",
       "0                         0            0       375.0     3.5        6.0   \n",
       "1                         0            0       300.0     3.0        6.0   \n",
       "2                         0            0       300.0     4.2        8.0   \n",
       "3                         0            0       335.0     3.0        6.0   \n",
       "4                         0            0       200.0     3.8        6.0   \n",
       "\n",
       "   speed  transmission_type_Transmission w/Dual Shift Mode  \\\n",
       "0   10.0                                                 0   \n",
       "1    6.0                                                 0   \n",
       "2    6.0                                                 0   \n",
       "3    7.0                                                 1   \n",
       "4    7.0                                                 0   \n",
       "\n",
       "   transmission_type_automatic  transmission_type_manual  clean_title_Yes  \n",
       "0                            1                         0                1  \n",
       "1                            0                         1                1  \n",
       "2                            1                         0                1  \n",
       "3                            0                         0                1  \n",
       "4                            1                         0                1  "
      ]
     },
     "execution_count": 28,
     "metadata": {},
     "output_type": "execute_result"
    }
   ],
   "source": [
    "train_data.head()"
   ]
  },
  {
   "cell_type": "code",
   "execution_count": 29,
   "id": "9aef9615",
   "metadata": {},
   "outputs": [
    {
     "data": {
      "text/plain": [
       "<AxesSubplot:>"
      ]
     },
     "execution_count": 29,
     "metadata": {},
     "output_type": "execute_result"
    },
    {
     "data": {
      "image/png": "[encoded data removed]",
      "text/plain": [
       "<Figure size 432x288 with 1 Axes>"
      ]
     },
     "metadata": {
      "needs_background": "light"
     },
     "output_type": "display_data"
    }
   ],
   "source": [
    "train_data['milage'].hist()"
   ]
  },
  {
   "cell_type": "markdown",
   "id": "c54689c6",
   "metadata": {},
   "source": [
    "### Model Building"
   ]
  },
  {
   "cell_type": "code",
   "execution_count": 30,
   "id": "e49cd408",
   "metadata": {},
   "outputs": [
    {
     "name": "stdout",
     "output_type": "stream",
     "text": [
      "shape of X is (54273, 18) and shape of Y is (54273,)\n"
     ]
    }
   ],
   "source": [
    "## dependent and independent\n",
    "\n",
    "y = train_data['price']\n",
    "X = train_data[train_data.columns.drop(\"price\")]\n",
    "\n",
    "print(f'shape of X is {X.shape} and shape of Y is {y.shape}')"
   ]
  },
  {
   "cell_type": "code",
   "execution_count": 31,
   "id": "91853c03",
   "metadata": {
    "scrolled": true
   },
   "outputs": [
    {
     "data": {
      "image/png": "[encoded data removed]",
      "text/plain": [
       "<Figure size 1152x648 with 20 Axes>"
      ]
     },
     "metadata": {
      "needs_background": "light"
     },
     "output_type": "display_data"
    }
   ],
   "source": [
    "## Plotting histogram to get idea of attributes distribution\n",
    "\n",
    "%matplotlib inline\n",
    "X.hist(figsize=(16,9),bins=50)\n",
    "plt.tight_layout()\n",
    "plt.show()"
   ]
  },
  {
   "cell_type": "code",
   "execution_count": 32,
   "id": "95096923",
   "metadata": {},
   "outputs": [],
   "source": [
    "columns = X.columns"
   ]
  },
  {
   "cell_type": "code",
   "execution_count": 33,
   "id": "55a1d83a",
   "metadata": {
    "scrolled": true
   },
   "outputs": [
    {
     "data": {
      "text/plain": [
       "(54273, 18)"
      ]
     },
     "execution_count": 33,
     "metadata": {},
     "output_type": "execute_result"
    }
   ],
   "source": [
    "obj = StandardScaler()\n",
    "X = obj.fit_transform(X)\n",
    "X = pd.DataFrame(X,columns=columns)\n",
    "X.shape"
   ]
  },
  {
   "cell_type": "code",
   "execution_count": 34,
   "id": "e438f3fe",
   "metadata": {},
   "outputs": [
    {
     "name": "stdout",
     "output_type": "stream",
     "text": [
      "(43418, 18) (10855, 18) (43418,) (10855,)\n"
     ]
    }
   ],
   "source": [
    "#train-validation split of training data\n",
    "\n",
    "X_train, X_valid, y_train, y_valid = train_test_split(X,y, test_size=0.2, random_state=100)\n",
    "print(X_train.shape, X_valid.shape, y_train.shape, y_valid.shape)"
   ]
  },
  {
   "cell_type": "code",
   "execution_count": 35,
   "id": "d579b03b",
   "metadata": {},
   "outputs": [
    {
     "data": {
      "text/plain": [
       "DecisionTreeRegressor()"
      ]
     },
     "execution_count": 35,
     "metadata": {},
     "output_type": "execute_result"
    }
   ],
   "source": [
    "# fitting of linear regression\n",
    "\n",
    "model = DecisionTreeRegressor()\n",
    "\n",
    "model.fit(X_train,y_train)"
   ]
  },
  {
   "cell_type": "code",
   "execution_count": 36,
   "id": "01b8481a",
   "metadata": {
    "scrolled": true
   },
   "outputs": [
    {
     "data": {
      "text/plain": [
       "0.9725341579413517"
      ]
     },
     "execution_count": 36,
     "metadata": {},
     "output_type": "execute_result"
    }
   ],
   "source": [
    "model.score(X_train,y_train)"
   ]
  },
  {
   "cell_type": "code",
   "execution_count": 37,
   "id": "85ce894b",
   "metadata": {
    "scrolled": true
   },
   "outputs": [
    {
     "data": {
      "text/plain": [
       "109144.29467644484"
      ]
     },
     "execution_count": 37,
     "metadata": {},
     "output_type": "execute_result"
    }
   ],
   "source": [
    "y_pred = model.predict(X_valid)\n",
    "\n",
    "np.sqrt(mean_squared_error(y_valid,y_pred))"
   ]
  },
  {
   "cell_type": "code",
   "execution_count": 38,
   "id": "9f5d79e5",
   "metadata": {
    "scrolled": true
   },
   "outputs": [
    {
     "data": {
      "text/plain": [
       "array([ 9500.        , 22495.        , 19950.        , ...,\n",
       "       78350.        , 34995.        , 15016.66666667])"
      ]
     },
     "execution_count": 38,
     "metadata": {},
     "output_type": "execute_result"
    }
   ],
   "source": [
    "y_pred"
   ]
  },
  {
   "cell_type": "code",
   "execution_count": 39,
   "id": "5a3917c3",
   "metadata": {},
   "outputs": [
    {
     "data": {
      "text/plain": [
       "(36183, 18)"
      ]
     },
     "execution_count": 39,
     "metadata": {},
     "output_type": "execute_result"
    }
   ],
   "source": [
    "obj = StandardScaler()\n",
    "test_data = obj.fit_transform(test_data)\n",
    "test_data = pd.DataFrame(test_data,columns=columns)\n",
    "test_data.shape"
   ]
  },
  {
   "cell_type": "code",
   "execution_count": 40,
   "id": "de255328",
   "metadata": {},
   "outputs": [
    {
     "data": {
      "text/html": [
       "<div>\n",
       "<style scoped>\n",
       "    .dataframe tbody tr th:only-of-type {\n",
       "        vertical-align: middle;\n",
       "    }\n",
       "\n",
       "    .dataframe tbody tr th {\n",
       "        vertical-align: top;\n",
       "    }\n",
       "\n",
       "    .dataframe thead th {\n",
       "        text-align: right;\n",
       "    }\n",
       "</style>\n",
       "<table border=\"1\" class=\"dataframe\">\n",
       "  <thead>\n",
       "    <tr style=\"text-align: right;\">\n",
       "      <th></th>\n",
       "      <th>price</th>\n",
       "    </tr>\n",
       "  </thead>\n",
       "  <tbody>\n",
       "    <tr>\n",
       "      <th>0</th>\n",
       "      <td>29500.0</td>\n",
       "    </tr>\n",
       "    <tr>\n",
       "      <th>1</th>\n",
       "      <td>11995.0</td>\n",
       "    </tr>\n",
       "    <tr>\n",
       "      <th>2</th>\n",
       "      <td>29000.0</td>\n",
       "    </tr>\n",
       "    <tr>\n",
       "      <th>3</th>\n",
       "      <td>42500.0</td>\n",
       "    </tr>\n",
       "    <tr>\n",
       "      <th>4</th>\n",
       "      <td>33500.0</td>\n",
       "    </tr>\n",
       "    <tr>\n",
       "      <th>...</th>\n",
       "      <td>...</td>\n",
       "    </tr>\n",
       "    <tr>\n",
       "      <th>36178</th>\n",
       "      <td>53000.0</td>\n",
       "    </tr>\n",
       "    <tr>\n",
       "      <th>36179</th>\n",
       "      <td>4000.0</td>\n",
       "    </tr>\n",
       "    <tr>\n",
       "      <th>36180</th>\n",
       "      <td>6900.0</td>\n",
       "    </tr>\n",
       "    <tr>\n",
       "      <th>36181</th>\n",
       "      <td>70250.0</td>\n",
       "    </tr>\n",
       "    <tr>\n",
       "      <th>36182</th>\n",
       "      <td>14500.0</td>\n",
       "    </tr>\n",
       "  </tbody>\n",
       "</table>\n",
       "<p>36183 rows × 1 columns</p>\n",
       "</div>"
      ],
      "text/plain": [
       "         price\n",
       "0      29500.0\n",
       "1      11995.0\n",
       "2      29000.0\n",
       "3      42500.0\n",
       "4      33500.0\n",
       "...        ...\n",
       "36178  53000.0\n",
       "36179   4000.0\n",
       "36180   6900.0\n",
       "36181  70250.0\n",
       "36182  14500.0\n",
       "\n",
       "[36183 rows x 1 columns]"
      ]
     },
     "execution_count": 40,
     "metadata": {},
     "output_type": "execute_result"
    }
   ],
   "source": [
    "y_preds = model.predict(test_data)\n",
    "y_preds = pd.DataFrame(y_preds,columns=['price'])\n",
    "y_preds"
   ]
  },
  {
   "cell_type": "code",
   "execution_count": 41,
   "id": "0cb5145e",
   "metadata": {},
   "outputs": [
    {
     "data": {
      "text/html": [
       "<div>\n",
       "<style scoped>\n",
       "    .dataframe tbody tr th:only-of-type {\n",
       "        vertical-align: middle;\n",
       "    }\n",
       "\n",
       "    .dataframe tbody tr th {\n",
       "        vertical-align: top;\n",
       "    }\n",
       "\n",
       "    .dataframe thead th {\n",
       "        text-align: right;\n",
       "    }\n",
       "</style>\n",
       "<table border=\"1\" class=\"dataframe\">\n",
       "  <thead>\n",
       "    <tr style=\"text-align: right;\">\n",
       "      <th></th>\n",
       "      <th>milage</th>\n",
       "      <th>accident</th>\n",
       "      <th>age</th>\n",
       "      <th>fuel_type_Diesel</th>\n",
       "      <th>fuel_type_E85 Flex Fuel</th>\n",
       "      <th>fuel_type_Gasoline</th>\n",
       "      <th>fuel_type_Hybrid</th>\n",
       "      <th>fuel_type_Hydrogen</th>\n",
       "      <th>fuel_type_Plug-In Hybrid</th>\n",
       "      <th>fuel_type_–</th>\n",
       "      <th>horsepower</th>\n",
       "      <th>litres</th>\n",
       "      <th>cylinders</th>\n",
       "      <th>speed</th>\n",
       "      <th>transmission_type_Transmission w/Dual Shift Mode</th>\n",
       "      <th>transmission_type_automatic</th>\n",
       "      <th>transmission_type_manual</th>\n",
       "      <th>clean_title_Yes</th>\n",
       "    </tr>\n",
       "  </thead>\n",
       "  <tbody>\n",
       "    <tr>\n",
       "      <th>0</th>\n",
       "      <td>0.010268</td>\n",
       "      <td>-0.600304</td>\n",
       "      <td>0.190357</td>\n",
       "      <td>-0.137459</td>\n",
       "      <td>-0.170145</td>\n",
       "      <td>0.308642</td>\n",
       "      <td>-0.178065</td>\n",
       "      <td>-0.009106</td>\n",
       "      <td>-0.064087</td>\n",
       "      <td>-0.07361</td>\n",
       "      <td>-0.065084</td>\n",
       "      <td>-0.113470</td>\n",
       "      <td>-0.175840</td>\n",
       "      <td>-0.038034</td>\n",
       "      <td>-0.365594</td>\n",
       "      <td>0.514101</td>\n",
       "      <td>-0.316684</td>\n",
       "      <td>0.0</td>\n",
       "    </tr>\n",
       "    <tr>\n",
       "      <th>1</th>\n",
       "      <td>1.095406</td>\n",
       "      <td>-0.600304</td>\n",
       "      <td>0.011442</td>\n",
       "      <td>-0.137459</td>\n",
       "      <td>-0.170145</td>\n",
       "      <td>0.308642</td>\n",
       "      <td>-0.178065</td>\n",
       "      <td>-0.009106</td>\n",
       "      <td>-0.064087</td>\n",
       "      <td>-0.07361</td>\n",
       "      <td>-0.268944</td>\n",
       "      <td>-0.113470</td>\n",
       "      <td>-0.175840</td>\n",
       "      <td>0.857334</td>\n",
       "      <td>-0.365594</td>\n",
       "      <td>0.514101</td>\n",
       "      <td>-0.316684</td>\n",
       "      <td>0.0</td>\n",
       "    </tr>\n",
       "    <tr>\n",
       "      <th>2</th>\n",
       "      <td>-0.404152</td>\n",
       "      <td>-0.600304</td>\n",
       "      <td>0.011442</td>\n",
       "      <td>-0.137459</td>\n",
       "      <td>-0.170145</td>\n",
       "      <td>0.308642</td>\n",
       "      <td>-0.178065</td>\n",
       "      <td>-0.009106</td>\n",
       "      <td>-0.064087</td>\n",
       "      <td>-0.07361</td>\n",
       "      <td>-0.525657</td>\n",
       "      <td>-0.160911</td>\n",
       "      <td>-1.457937</td>\n",
       "      <td>-0.038034</td>\n",
       "      <td>-0.365594</td>\n",
       "      <td>0.514101</td>\n",
       "      <td>-0.316684</td>\n",
       "      <td>0.0</td>\n",
       "    </tr>\n",
       "    <tr>\n",
       "      <th>3</th>\n",
       "      <td>-0.847479</td>\n",
       "      <td>1.665821</td>\n",
       "      <td>-0.525302</td>\n",
       "      <td>-0.137459</td>\n",
       "      <td>-0.170145</td>\n",
       "      <td>0.308642</td>\n",
       "      <td>-0.178065</td>\n",
       "      <td>-0.009106</td>\n",
       "      <td>-0.064087</td>\n",
       "      <td>-0.07361</td>\n",
       "      <td>1.565795</td>\n",
       "      <td>-0.066028</td>\n",
       "      <td>1.106258</td>\n",
       "      <td>-0.038034</td>\n",
       "      <td>2.735273</td>\n",
       "      <td>-1.945143</td>\n",
       "      <td>-0.316684</td>\n",
       "      <td>0.0</td>\n",
       "    </tr>\n",
       "    <tr>\n",
       "      <th>4</th>\n",
       "      <td>0.345479</td>\n",
       "      <td>1.665821</td>\n",
       "      <td>-0.883131</td>\n",
       "      <td>-0.137459</td>\n",
       "      <td>-0.170145</td>\n",
       "      <td>0.308642</td>\n",
       "      <td>-0.178065</td>\n",
       "      <td>-0.009106</td>\n",
       "      <td>-0.064087</td>\n",
       "      <td>-0.07361</td>\n",
       "      <td>0.184078</td>\n",
       "      <td>-0.129283</td>\n",
       "      <td>-0.175840</td>\n",
       "      <td>0.857334</td>\n",
       "      <td>-0.365594</td>\n",
       "      <td>0.514101</td>\n",
       "      <td>-0.316684</td>\n",
       "      <td>0.0</td>\n",
       "    </tr>\n",
       "  </tbody>\n",
       "</table>\n",
       "</div>"
      ],
      "text/plain": [
       "     milage  accident       age  fuel_type_Diesel  fuel_type_E85 Flex Fuel  \\\n",
       "0  0.010268 -0.600304  0.190357         -0.137459                -0.170145   \n",
       "1  1.095406 -0.600304  0.011442         -0.137459                -0.170145   \n",
       "2 -0.404152 -0.600304  0.011442         -0.137459                -0.170145   \n",
       "3 -0.847479  1.665821 -0.525302         -0.137459                -0.170145   \n",
       "4  0.345479  1.665821 -0.883131         -0.137459                -0.170145   \n",
       "\n",
       "   fuel_type_Gasoline  fuel_type_Hybrid  fuel_type_Hydrogen  \\\n",
       "0            0.308642         -0.178065           -0.009106   \n",
       "1            0.308642         -0.178065           -0.009106   \n",
       "2            0.308642         -0.178065           -0.009106   \n",
       "3            0.308642         -0.178065           -0.009106   \n",
       "4            0.308642         -0.178065           -0.009106   \n",
       "\n",
       "   fuel_type_Plug-In Hybrid  fuel_type_–  horsepower    litres  cylinders  \\\n",
       "0                 -0.064087     -0.07361   -0.065084 -0.113470  -0.175840   \n",
       "1                 -0.064087     -0.07361   -0.268944 -0.113470  -0.175840   \n",
       "2                 -0.064087     -0.07361   -0.525657 -0.160911  -1.457937   \n",
       "3                 -0.064087     -0.07361    1.565795 -0.066028   1.106258   \n",
       "4                 -0.064087     -0.07361    0.184078 -0.129283  -0.175840   \n",
       "\n",
       "      speed  transmission_type_Transmission w/Dual Shift Mode  \\\n",
       "0 -0.038034                                         -0.365594   \n",
       "1  0.857334                                         -0.365594   \n",
       "2 -0.038034                                         -0.365594   \n",
       "3 -0.038034                                          2.735273   \n",
       "4  0.857334                                         -0.365594   \n",
       "\n",
       "   transmission_type_automatic  transmission_type_manual  clean_title_Yes  \n",
       "0                     0.514101                 -0.316684              0.0  \n",
       "1                     0.514101                 -0.316684              0.0  \n",
       "2                     0.514101                 -0.316684              0.0  \n",
       "3                    -1.945143                 -0.316684              0.0  \n",
       "4                     0.514101                 -0.316684              0.0  "
      ]
     },
     "execution_count": 41,
     "metadata": {},
     "output_type": "execute_result"
    }
   ],
   "source": [
    "test_data.head()"
   ]
  },
  {
   "cell_type": "code",
   "execution_count": 42,
   "id": "9b485b04",
   "metadata": {},
   "outputs": [],
   "source": [
    "sample_submission = read_data('./sample_submission.csv')"
   ]
  },
  {
   "cell_type": "code",
   "execution_count": 43,
   "id": "958971b6",
   "metadata": {},
   "outputs": [
    {
     "data": {
      "text/plain": [
       "(36183, 2)"
      ]
     },
     "execution_count": 43,
     "metadata": {},
     "output_type": "execute_result"
    }
   ],
   "source": [
    "sample_submission.shape"
   ]
  },
  {
   "cell_type": "code",
   "execution_count": 44,
   "id": "14898a0b",
   "metadata": {},
   "outputs": [],
   "source": [
    "sample_submission['price'] = y_preds['price']"
   ]
  },
  {
   "cell_type": "code",
   "execution_count": 45,
   "id": "100de262",
   "metadata": {},
   "outputs": [
    {
     "data": {
      "text/html": [
       "<div>\n",
       "<style scoped>\n",
       "    .dataframe tbody tr th:only-of-type {\n",
       "        vertical-align: middle;\n",
       "    }\n",
       "\n",
       "    .dataframe tbody tr th {\n",
       "        vertical-align: top;\n",
       "    }\n",
       "\n",
       "    .dataframe thead th {\n",
       "        text-align: right;\n",
       "    }\n",
       "</style>\n",
       "<table border=\"1\" class=\"dataframe\">\n",
       "  <thead>\n",
       "    <tr style=\"text-align: right;\">\n",
       "      <th></th>\n",
       "      <th>id</th>\n",
       "      <th>price</th>\n",
       "    </tr>\n",
       "  </thead>\n",
       "  <tbody>\n",
       "    <tr>\n",
       "      <th>0</th>\n",
       "      <td>54273</td>\n",
       "      <td>29500.0</td>\n",
       "    </tr>\n",
       "    <tr>\n",
       "      <th>1</th>\n",
       "      <td>54274</td>\n",
       "      <td>11995.0</td>\n",
       "    </tr>\n",
       "    <tr>\n",
       "      <th>2</th>\n",
       "      <td>54275</td>\n",
       "      <td>29000.0</td>\n",
       "    </tr>\n",
       "    <tr>\n",
       "      <th>3</th>\n",
       "      <td>54276</td>\n",
       "      <td>42500.0</td>\n",
       "    </tr>\n",
       "    <tr>\n",
       "      <th>4</th>\n",
       "      <td>54277</td>\n",
       "      <td>33500.0</td>\n",
       "    </tr>\n",
       "  </tbody>\n",
       "</table>\n",
       "</div>"
      ],
      "text/plain": [
       "      id    price\n",
       "0  54273  29500.0\n",
       "1  54274  11995.0\n",
       "2  54275  29000.0\n",
       "3  54276  42500.0\n",
       "4  54277  33500.0"
      ]
     },
     "execution_count": 45,
     "metadata": {},
     "output_type": "execute_result"
    }
   ],
   "source": [
    "sample_submission.head()"
   ]
  },
  {
   "cell_type": "code",
   "execution_count": 46,
   "id": "44a3063a",
   "metadata": {},
   "outputs": [],
   "source": [
    "sample_submission.to_csv('output.csv',index=False)"
   ]
  },
  {
   "cell_type": "code",
   "execution_count": 47,
   "id": "dacb6c92",
   "metadata": {},
   "outputs": [
    {
     "data": {
      "text/plain": [
       "id       0\n",
       "price    0\n",
       "dtype: int64"
      ]
     },
     "execution_count": 47,
     "metadata": {},
     "output_type": "execute_result"
    }
   ],
   "source": [
    "sample_submission.isna().sum()"
   ]
  },
  {
   "cell_type": "code",
   "execution_count": 48,
   "id": "536ba74a",
   "metadata": {},
   "outputs": [
    {
     "data": {
      "text/plain": [
       "RandomForestRegressor()"
      ]
     },
     "execution_count": 48,
     "metadata": {},
     "output_type": "execute_result"
    }
   ],
   "source": [
    "model_1 = RandomForestRegressor()\n",
    "\n",
    "model_1.fit(X_train,y_train)"
   ]
  },
  {
   "cell_type": "code",
   "execution_count": 49,
   "id": "e95b55f5",
   "metadata": {},
   "outputs": [
    {
     "data": {
      "text/plain": [
       "0.8428142000269735"
      ]
     },
     "execution_count": 49,
     "metadata": {},
     "output_type": "execute_result"
    }
   ],
   "source": [
    "model_1.score(X_train,y_train)"
   ]
  },
  {
   "cell_type": "code",
   "execution_count": 50,
   "id": "6c4e5dd6",
   "metadata": {},
   "outputs": [
    {
     "data": {
      "text/plain": [
       "75738.37236045489"
      ]
     },
     "execution_count": 50,
     "metadata": {},
     "output_type": "execute_result"
    }
   ],
   "source": [
    "y_pred = model_1.predict(X_valid)\n",
    "\n",
    "np.sqrt(mean_squared_error(y_valid,y_pred))"
   ]
  },
  {
   "cell_type": "code",
   "execution_count": 51,
   "id": "253a43bb",
   "metadata": {},
   "outputs": [],
   "source": [
    "y_preds_1 = model_1.predict(test_data)\n",
    "y_preds_1 = pd.DataFrame(y_preds_1,columns=['price'])"
   ]
  },
  {
   "cell_type": "code",
   "execution_count": 52,
   "id": "66110a65",
   "metadata": {},
   "outputs": [],
   "source": [
    "sample_submission['price'] = y_preds_1['price']"
   ]
  },
  {
   "cell_type": "code",
   "execution_count": 53,
   "id": "62e829f4",
   "metadata": {},
   "outputs": [],
   "source": [
    "sample_submission.to_csv('out_1.csv',index=False)"
   ]
  },
  {
   "cell_type": "code",
   "execution_count": 54,
   "id": "ee203154",
   "metadata": {},
   "outputs": [
    {
     "data": {
      "text/plain": [
       "GridSearchCV(cv=5, estimator=RandomForestRegressor(),\n",
       "             param_grid=[{'max_features': [2, 4, 6],\n",
       "                          'n_estimators': [3, 10, 30, 40, 50]},\n",
       "                         {'bootstrap': [False], 'max_features': [2, 3, 4, 6],\n",
       "                          'n_estimators': [3, 10, 30, 40]}],\n",
       "             scoring='neg_mean_squared_error')"
      ]
     },
     "execution_count": 54,
     "metadata": {},
     "output_type": "execute_result"
    }
   ],
   "source": [
    "param_grid = [{'n_estimators':[3,10,30,40,50], 'max_features':[2,4,6]},\n",
    "             {'bootstrap':[False],'n_estimators':[3,10,30,40],'max_features':[2,3,4,6]}]\n",
    "\n",
    "forest_reg = RandomForestRegressor()\n",
    "\n",
    "grid_search = GridSearchCV(forest_reg,param_grid,cv=5,\n",
    "                          scoring='neg_mean_squared_error')\n",
    "\n",
    "grid_search.fit(X_train,y_train)"
   ]
  },
  {
   "cell_type": "code",
   "execution_count": 55,
   "id": "c2fefa22",
   "metadata": {},
   "outputs": [
    {
     "data": {
      "text/plain": [
       "RandomForestRegressor(max_features=4, n_estimators=40)"
      ]
     },
     "execution_count": 55,
     "metadata": {},
     "output_type": "execute_result"
    }
   ],
   "source": [
    "grid_search.best_estimator_"
   ]
  },
  {
   "cell_type": "code",
   "execution_count": 56,
   "id": "593bb3e0",
   "metadata": {},
   "outputs": [
    {
     "data": {
      "text/plain": [
       "{'max_features': 4, 'n_estimators': 40}"
      ]
     },
     "execution_count": 56,
     "metadata": {},
     "output_type": "execute_result"
    }
   ],
   "source": [
    "grid_search.best_params_"
   ]
  },
  {
   "cell_type": "code",
   "execution_count": 57,
   "id": "05ce0344",
   "metadata": {},
   "outputs": [],
   "source": [
    "results = grid_search.cv_results_"
   ]
  },
  {
   "cell_type": "code",
   "execution_count": 58,
   "id": "30488e97",
   "metadata": {},
   "outputs": [
    {
     "name": "stdout",
     "output_type": "stream",
     "text": [
      "79722.07629285361 {'max_features': 2, 'n_estimators': 3}\n",
      "74505.18690776615 {'max_features': 2, 'n_estimators': 10}\n",
      "73107.05563035971 {'max_features': 2, 'n_estimators': 30}\n",
      "73261.27377929547 {'max_features': 2, 'n_estimators': 40}\n",
      "72801.54612780415 {'max_features': 2, 'n_estimators': 50}\n",
      "80398.54649755554 {'max_features': 4, 'n_estimators': 3}\n",
      "74221.2123131791 {'max_features': 4, 'n_estimators': 10}\n",
      "72822.69421539769 {'max_features': 4, 'n_estimators': 30}\n",
      "72196.76700625948 {'max_features': 4, 'n_estimators': 40}\n",
      "72559.89078326205 {'max_features': 4, 'n_estimators': 50}\n",
      "83118.94860757666 {'max_features': 6, 'n_estimators': 3}\n",
      "75033.48409067105 {'max_features': 6, 'n_estimators': 10}\n",
      "73215.60609483859 {'max_features': 6, 'n_estimators': 30}\n",
      "72568.4435472795 {'max_features': 6, 'n_estimators': 40}\n",
      "72353.62968761976 {'max_features': 6, 'n_estimators': 50}\n",
      "83762.91955234933 {'bootstrap': False, 'max_features': 2, 'n_estimators': 3}\n",
      "77073.4733728254 {'bootstrap': False, 'max_features': 2, 'n_estimators': 10}\n",
      "76298.93385249982 {'bootstrap': False, 'max_features': 2, 'n_estimators': 30}\n",
      "75582.83537447308 {'bootstrap': False, 'max_features': 2, 'n_estimators': 40}\n",
      "81221.54908214638 {'bootstrap': False, 'max_features': 3, 'n_estimators': 3}\n",
      "76744.39009711391 {'bootstrap': False, 'max_features': 3, 'n_estimators': 10}\n",
      "76214.26825718339 {'bootstrap': False, 'max_features': 3, 'n_estimators': 30}\n",
      "75145.6852662945 {'bootstrap': False, 'max_features': 3, 'n_estimators': 40}\n",
      "81338.54790008915 {'bootstrap': False, 'max_features': 4, 'n_estimators': 3}\n",
      "77564.32402146235 {'bootstrap': False, 'max_features': 4, 'n_estimators': 10}\n",
      "75751.22812325739 {'bootstrap': False, 'max_features': 4, 'n_estimators': 30}\n",
      "75465.75500260844 {'bootstrap': False, 'max_features': 4, 'n_estimators': 40}\n",
      "81484.29501996699 {'bootstrap': False, 'max_features': 6, 'n_estimators': 3}\n",
      "77526.70317963824 {'bootstrap': False, 'max_features': 6, 'n_estimators': 10}\n",
      "75358.93057198508 {'bootstrap': False, 'max_features': 6, 'n_estimators': 30}\n",
      "75840.99403558919 {'bootstrap': False, 'max_features': 6, 'n_estimators': 40}\n"
     ]
    }
   ],
   "source": [
    "for mean_score, params in zip(results['mean_test_score'],results['params']):\n",
    "    print(np.sqrt(-mean_score),params)"
   ]
  },
  {
   "cell_type": "code",
   "execution_count": 59,
   "id": "e70c1bb4",
   "metadata": {},
   "outputs": [
    {
     "data": {
      "text/plain": [
       "75738.37236045489"
      ]
     },
     "execution_count": 59,
     "metadata": {},
     "output_type": "execute_result"
    }
   ],
   "source": [
    "final_model = grid_search.best_estimator_\n",
    "\n",
    "y_pred_final = final_model.predict(X_valid)\n",
    "np.sqrt(mean_squared_error(y_valid,y_pred))"
   ]
  },
  {
   "cell_type": "code",
   "execution_count": 60,
   "id": "8488f2a6",
   "metadata": {},
   "outputs": [],
   "source": [
    "y_preds_final = final_model.predict(test_data)\n",
    "y_preds_final = pd.DataFrame(y_preds_final,columns=['price'])"
   ]
  },
  {
   "cell_type": "code",
   "execution_count": 61,
   "id": "e57e44cb",
   "metadata": {},
   "outputs": [],
   "source": [
    "sample_submission['price'] = y_preds_final['price']\n",
    "sample_submission.to_csv('final_output.csv',index=False)"
   ]
  },
  {
   "cell_type": "code",
   "execution_count": 62,
   "id": "3cdea212",
   "metadata": {},
   "outputs": [
    {
     "data": {
      "text/plain": [
       "RandomForestRegressor(max_features=4, n_estimators=40)"
      ]
     },
     "execution_count": 62,
     "metadata": {},
     "output_type": "execute_result"
    }
   ],
   "source": [
    "grid_search.best_estimator_"
   ]
  },
  {
   "cell_type": "code",
   "execution_count": 63,
   "id": "e45a1610",
   "metadata": {},
   "outputs": [
    {
     "name": "stdout",
     "output_type": "stream",
     "text": [
      "Fitting 3 folds for each of 64 candidates, totalling 192 fits\n",
      "[CV 1/3; 1/64] START learning_rate=0.01, max_depth=3, n_estimators=100..........\n",
      "[CV 1/3; 1/64] END learning_rate=0.01, max_depth=3, n_estimators=100;, score=-75719.672 total time=   0.3s\n",
      "[CV 2/3; 1/64] START learning_rate=0.01, max_depth=3, n_estimators=100..........\n",
      "[CV 2/3; 1/64] END learning_rate=0.01, max_depth=3, n_estimators=100;, score=-71318.819 total time=   0.2s\n",
      "[CV 3/3; 1/64] START learning_rate=0.01, max_depth=3, n_estimators=100..........\n",
      "[CV 3/3; 1/64] END learning_rate=0.01, max_depth=3, n_estimators=100;, score=-65304.433 total time=   0.2s\n",
      "[CV 1/3; 2/64] START learning_rate=0.01, max_depth=3, n_estimators=500..........\n",
      "[CV 1/3; 2/64] END learning_rate=0.01, max_depth=3, n_estimators=500;, score=-74309.322 total time=   1.0s\n",
      "[CV 2/3; 2/64] START learning_rate=0.01, max_depth=3, n_estimators=500..........\n",
      "[CV 2/3; 2/64] END learning_rate=0.01, max_depth=3, n_estimators=500;, score=-70512.642 total time=   1.0s\n",
      "[CV 3/3; 2/64] START learning_rate=0.01, max_depth=3, n_estimators=500..........\n",
      "[CV 3/3; 2/64] END learning_rate=0.01, max_depth=3, n_estimators=500;, score=-63737.135 total time=   1.0s\n",
      "[CV 1/3; 3/64] START learning_rate=0.01, max_depth=3, n_estimators=1000.........\n",
      "[CV 1/3; 3/64] END learning_rate=0.01, max_depth=3, n_estimators=1000;, score=-74190.771 total time=   1.9s\n",
      "[CV 2/3; 3/64] START learning_rate=0.01, max_depth=3, n_estimators=1000.........\n",
      "[CV 2/3; 3/64] END learning_rate=0.01, max_depth=3, n_estimators=1000;, score=-71037.788 total time=   2.0s\n",
      "[CV 3/3; 3/64] START learning_rate=0.01, max_depth=3, n_estimators=1000.........\n",
      "[CV 3/3; 3/64] END learning_rate=0.01, max_depth=3, n_estimators=1000;, score=-63418.434 total time=   1.9s\n",
      "[CV 1/3; 4/64] START learning_rate=0.01, max_depth=3, n_estimators=2000.........\n",
      "[CV 1/3; 4/64] END learning_rate=0.01, max_depth=3, n_estimators=2000;, score=-74141.291 total time=   3.7s\n",
      "[CV 2/3; 4/64] START learning_rate=0.01, max_depth=3, n_estimators=2000.........\n",
      "[CV 2/3; 4/64] END learning_rate=0.01, max_depth=3, n_estimators=2000;, score=-72776.393 total time=   3.7s\n",
      "[CV 3/3; 4/64] START learning_rate=0.01, max_depth=3, n_estimators=2000.........\n",
      "[CV 3/3; 4/64] END learning_rate=0.01, max_depth=3, n_estimators=2000;, score=-64009.495 total time=   3.8s\n",
      "[CV 1/3; 5/64] START learning_rate=0.01, max_depth=5, n_estimators=100..........\n",
      "[CV 1/3; 5/64] END learning_rate=0.01, max_depth=5, n_estimators=100;, score=-74098.113 total time=   0.3s\n",
      "[CV 2/3; 5/64] START learning_rate=0.01, max_depth=5, n_estimators=100..........\n",
      "[CV 2/3; 5/64] END learning_rate=0.01, max_depth=5, n_estimators=100;, score=-72929.277 total time=   0.3s\n",
      "[CV 3/3; 5/64] START learning_rate=0.01, max_depth=5, n_estimators=100..........\n",
      "[CV 3/3; 5/64] END learning_rate=0.01, max_depth=5, n_estimators=100;, score=-62434.780 total time=   0.3s\n",
      "[CV 1/3; 6/64] START learning_rate=0.01, max_depth=5, n_estimators=500..........\n",
      "[CV 1/3; 6/64] END learning_rate=0.01, max_depth=5, n_estimators=500;, score=-73546.387 total time=   1.5s\n",
      "[CV 2/3; 6/64] START learning_rate=0.01, max_depth=5, n_estimators=500..........\n",
      "[CV 2/3; 6/64] END learning_rate=0.01, max_depth=5, n_estimators=500;, score=-74009.663 total time=   1.5s\n",
      "[CV 3/3; 6/64] START learning_rate=0.01, max_depth=5, n_estimators=500..........\n",
      "[CV 3/3; 6/64] END learning_rate=0.01, max_depth=5, n_estimators=500;, score=-62912.867 total time=   1.5s\n",
      "[CV 1/3; 7/64] START learning_rate=0.01, max_depth=5, n_estimators=1000.........\n",
      "[CV 1/3; 7/64] END learning_rate=0.01, max_depth=5, n_estimators=1000;, score=-73524.058 total time=   2.8s\n",
      "[CV 2/3; 7/64] START learning_rate=0.01, max_depth=5, n_estimators=1000.........\n",
      "[CV 2/3; 7/64] END learning_rate=0.01, max_depth=5, n_estimators=1000;, score=-75527.818 total time=   2.8s\n",
      "[CV 3/3; 7/64] START learning_rate=0.01, max_depth=5, n_estimators=1000.........\n",
      "[CV 3/3; 7/64] END learning_rate=0.01, max_depth=5, n_estimators=1000;, score=-64002.732 total time=   2.8s\n",
      "[CV 1/3; 8/64] START learning_rate=0.01, max_depth=5, n_estimators=2000.........\n",
      "[CV 1/3; 8/64] END learning_rate=0.01, max_depth=5, n_estimators=2000;, score=-73914.652 total time=   5.5s\n",
      "[CV 2/3; 8/64] START learning_rate=0.01, max_depth=5, n_estimators=2000.........\n",
      "[CV 2/3; 8/64] END learning_rate=0.01, max_depth=5, n_estimators=2000;, score=-77018.555 total time=   5.6s\n",
      "[CV 3/3; 8/64] START learning_rate=0.01, max_depth=5, n_estimators=2000.........\n",
      "[CV 3/3; 8/64] END learning_rate=0.01, max_depth=5, n_estimators=2000;, score=-67468.543 total time=   7.0s\n",
      "[CV 1/3; 9/64] START learning_rate=0.01, max_depth=8, n_estimators=100..........\n",
      "[CV 1/3; 9/64] END learning_rate=0.01, max_depth=8, n_estimators=100;, score=-75346.243 total time=   0.7s\n",
      "[CV 2/3; 9/64] START learning_rate=0.01, max_depth=8, n_estimators=100..........\n",
      "[CV 2/3; 9/64] END learning_rate=0.01, max_depth=8, n_estimators=100;, score=-74686.788 total time=   0.7s\n",
      "[CV 3/3; 9/64] START learning_rate=0.01, max_depth=8, n_estimators=100..........\n",
      "[CV 3/3; 9/64] END learning_rate=0.01, max_depth=8, n_estimators=100;, score=-64980.205 total time=   0.7s\n",
      "[CV 1/3; 10/64] START learning_rate=0.01, max_depth=8, n_estimators=500.........\n",
      "[CV 1/3; 10/64] END learning_rate=0.01, max_depth=8, n_estimators=500;, score=-78790.220 total time=   3.3s\n",
      "[CV 2/3; 10/64] START learning_rate=0.01, max_depth=8, n_estimators=500.........\n",
      "[CV 2/3; 10/64] END learning_rate=0.01, max_depth=8, n_estimators=500;, score=-79186.935 total time=   3.1s\n",
      "[CV 3/3; 10/64] START learning_rate=0.01, max_depth=8, n_estimators=500.........\n",
      "[CV 3/3; 10/64] END learning_rate=0.01, max_depth=8, n_estimators=500;, score=-72530.572 total time=   2.9s\n",
      "[CV 1/3; 11/64] START learning_rate=0.01, max_depth=8, n_estimators=1000........\n",
      "[CV 1/3; 11/64] END learning_rate=0.01, max_depth=8, n_estimators=1000;, score=-79784.173 total time=   6.0s\n",
      "[CV 2/3; 11/64] START learning_rate=0.01, max_depth=8, n_estimators=1000........\n",
      "[CV 2/3; 11/64] END learning_rate=0.01, max_depth=8, n_estimators=1000;, score=-80827.691 total time=   5.8s\n",
      "[CV 3/3; 11/64] START learning_rate=0.01, max_depth=8, n_estimators=1000........\n",
      "[CV 3/3; 11/64] END learning_rate=0.01, max_depth=8, n_estimators=1000;, score=-74450.154 total time=   6.4s\n",
      "[CV 1/3; 12/64] START learning_rate=0.01, max_depth=8, n_estimators=2000........\n",
      "[CV 1/3; 12/64] END learning_rate=0.01, max_depth=8, n_estimators=2000;, score=-81309.180 total time=  11.9s\n",
      "[CV 2/3; 12/64] START learning_rate=0.01, max_depth=8, n_estimators=2000........\n",
      "[CV 2/3; 12/64] END learning_rate=0.01, max_depth=8, n_estimators=2000;, score=-85173.284 total time=  12.1s\n",
      "[CV 3/3; 12/64] START learning_rate=0.01, max_depth=8, n_estimators=2000........\n",
      "[CV 3/3; 12/64] END learning_rate=0.01, max_depth=8, n_estimators=2000;, score=-76547.486 total time=  11.5s\n",
      "[CV 1/3; 13/64] START learning_rate=0.01, max_depth=10, n_estimators=100........\n",
      "[CV 1/3; 13/64] END learning_rate=0.01, max_depth=10, n_estimators=100;, score=-75574.969 total time=   1.4s\n",
      "[CV 2/3; 13/64] START learning_rate=0.01, max_depth=10, n_estimators=100........\n",
      "[CV 2/3; 13/64] END learning_rate=0.01, max_depth=10, n_estimators=100;, score=-75318.686 total time=   1.2s\n",
      "[CV 3/3; 13/64] START learning_rate=0.01, max_depth=10, n_estimators=100........\n",
      "[CV 3/3; 13/64] END learning_rate=0.01, max_depth=10, n_estimators=100;, score=-66277.853 total time=   1.2s\n",
      "[CV 1/3; 14/64] START learning_rate=0.01, max_depth=10, n_estimators=500........\n",
      "[CV 1/3; 14/64] END learning_rate=0.01, max_depth=10, n_estimators=500;, score=-80191.348 total time=   5.8s\n",
      "[CV 2/3; 14/64] START learning_rate=0.01, max_depth=10, n_estimators=500........\n",
      "[CV 2/3; 14/64] END learning_rate=0.01, max_depth=10, n_estimators=500;, score=-83131.024 total time=   4.8s\n",
      "[CV 3/3; 14/64] START learning_rate=0.01, max_depth=10, n_estimators=500........\n",
      "[CV 3/3; 14/64] END learning_rate=0.01, max_depth=10, n_estimators=500;, score=-77954.290 total time=   4.9s\n",
      "[CV 1/3; 15/64] START learning_rate=0.01, max_depth=10, n_estimators=1000.......\n",
      "[CV 1/3; 15/64] END learning_rate=0.01, max_depth=10, n_estimators=1000;, score=-81408.905 total time=  10.5s\n",
      "[CV 2/3; 15/64] START learning_rate=0.01, max_depth=10, n_estimators=1000.......\n"
     ]
    },
    {
     "name": "stdout",
     "output_type": "stream",
     "text": [
      "[CV 2/3; 15/64] END learning_rate=0.01, max_depth=10, n_estimators=1000;, score=-84618.076 total time=   8.9s\n",
      "[CV 3/3; 15/64] START learning_rate=0.01, max_depth=10, n_estimators=1000.......\n",
      "[CV 3/3; 15/64] END learning_rate=0.01, max_depth=10, n_estimators=1000;, score=-79765.203 total time=   9.0s\n",
      "[CV 1/3; 16/64] START learning_rate=0.01, max_depth=10, n_estimators=2000.......\n",
      "[CV 1/3; 16/64] END learning_rate=0.01, max_depth=10, n_estimators=2000;, score=-82275.263 total time=  20.4s\n",
      "[CV 2/3; 16/64] START learning_rate=0.01, max_depth=10, n_estimators=2000.......\n",
      "[CV 2/3; 16/64] END learning_rate=0.01, max_depth=10, n_estimators=2000;, score=-87739.878 total time=  18.7s\n",
      "[CV 3/3; 16/64] START learning_rate=0.01, max_depth=10, n_estimators=2000.......\n",
      "[CV 3/3; 16/64] END learning_rate=0.01, max_depth=10, n_estimators=2000;, score=-81399.261 total time=  18.5s\n",
      "[CV 1/3; 17/64] START learning_rate=0.05, max_depth=3, n_estimators=100.........\n",
      "[CV 1/3; 17/64] END learning_rate=0.05, max_depth=3, n_estimators=100;, score=-74150.845 total time=   0.2s\n",
      "[CV 2/3; 17/64] START learning_rate=0.05, max_depth=3, n_estimators=100.........\n",
      "[CV 2/3; 17/64] END learning_rate=0.05, max_depth=3, n_estimators=100;, score=-70532.025 total time=   0.2s\n",
      "[CV 3/3; 17/64] START learning_rate=0.05, max_depth=3, n_estimators=100.........\n",
      "[CV 3/3; 17/64] END learning_rate=0.05, max_depth=3, n_estimators=100;, score=-63887.212 total time=   0.2s\n",
      "[CV 1/3; 18/64] START learning_rate=0.05, max_depth=3, n_estimators=500.........\n",
      "[CV 1/3; 18/64] END learning_rate=0.05, max_depth=3, n_estimators=500;, score=-73783.168 total time=   1.0s\n",
      "[CV 2/3; 18/64] START learning_rate=0.05, max_depth=3, n_estimators=500.........\n",
      "[CV 2/3; 18/64] END learning_rate=0.05, max_depth=3, n_estimators=500;, score=-73148.944 total time=   1.0s\n",
      "[CV 3/3; 18/64] START learning_rate=0.05, max_depth=3, n_estimators=500.........\n",
      "[CV 3/3; 18/64] END learning_rate=0.05, max_depth=3, n_estimators=500;, score=-64474.450 total time=   1.0s\n",
      "[CV 1/3; 19/64] START learning_rate=0.05, max_depth=3, n_estimators=1000........\n",
      "[CV 1/3; 19/64] END learning_rate=0.05, max_depth=3, n_estimators=1000;, score=-73825.836 total time=   2.0s\n",
      "[CV 2/3; 19/64] START learning_rate=0.05, max_depth=3, n_estimators=1000........\n",
      "[CV 2/3; 19/64] END learning_rate=0.05, max_depth=3, n_estimators=1000;, score=-74679.709 total time=   2.0s\n",
      "[CV 3/3; 19/64] START learning_rate=0.05, max_depth=3, n_estimators=1000........\n",
      "[CV 3/3; 19/64] END learning_rate=0.05, max_depth=3, n_estimators=1000;, score=-66923.774 total time=   1.9s\n",
      "[CV 1/3; 20/64] START learning_rate=0.05, max_depth=3, n_estimators=2000........\n",
      "[CV 1/3; 20/64] END learning_rate=0.05, max_depth=3, n_estimators=2000;, score=-74511.288 total time=   3.8s\n",
      "[CV 2/3; 20/64] START learning_rate=0.05, max_depth=3, n_estimators=2000........\n",
      "[CV 2/3; 20/64] END learning_rate=0.05, max_depth=3, n_estimators=2000;, score=-76434.711 total time=   3.8s\n",
      "[CV 3/3; 20/64] START learning_rate=0.05, max_depth=3, n_estimators=2000........\n",
      "[CV 3/3; 20/64] END learning_rate=0.05, max_depth=3, n_estimators=2000;, score=-68787.233 total time=   3.8s\n",
      "[CV 1/3; 21/64] START learning_rate=0.05, max_depth=5, n_estimators=100.........\n",
      "[CV 1/3; 21/64] END learning_rate=0.05, max_depth=5, n_estimators=100;, score=-73408.683 total time=   0.3s\n",
      "[CV 2/3; 21/64] START learning_rate=0.05, max_depth=5, n_estimators=100.........\n",
      "[CV 2/3; 21/64] END learning_rate=0.05, max_depth=5, n_estimators=100;, score=-74497.462 total time=   0.3s\n",
      "[CV 3/3; 21/64] START learning_rate=0.05, max_depth=5, n_estimators=100.........\n",
      "[CV 3/3; 21/64] END learning_rate=0.05, max_depth=5, n_estimators=100;, score=-64218.127 total time=   0.3s\n",
      "[CV 1/3; 22/64] START learning_rate=0.05, max_depth=5, n_estimators=500.........\n",
      "[CV 1/3; 22/64] END learning_rate=0.05, max_depth=5, n_estimators=500;, score=-75990.429 total time=   1.4s\n",
      "[CV 2/3; 22/64] START learning_rate=0.05, max_depth=5, n_estimators=500.........\n",
      "[CV 2/3; 22/64] END learning_rate=0.05, max_depth=5, n_estimators=500;, score=-77949.106 total time=   1.4s\n",
      "[CV 3/3; 22/64] START learning_rate=0.05, max_depth=5, n_estimators=500.........\n",
      "[CV 3/3; 22/64] END learning_rate=0.05, max_depth=5, n_estimators=500;, score=-68128.118 total time=   1.4s\n",
      "[CV 1/3; 23/64] START learning_rate=0.05, max_depth=5, n_estimators=1000........\n",
      "[CV 1/3; 23/64] END learning_rate=0.05, max_depth=5, n_estimators=1000;, score=-77063.922 total time=   2.8s\n",
      "[CV 2/3; 23/64] START learning_rate=0.05, max_depth=5, n_estimators=1000........\n",
      "[CV 2/3; 23/64] END learning_rate=0.05, max_depth=5, n_estimators=1000;, score=-80070.169 total time=   2.8s\n",
      "[CV 3/3; 23/64] START learning_rate=0.05, max_depth=5, n_estimators=1000........\n",
      "[CV 3/3; 23/64] END learning_rate=0.05, max_depth=5, n_estimators=1000;, score=-70878.671 total time=   2.8s\n",
      "[CV 1/3; 24/64] START learning_rate=0.05, max_depth=5, n_estimators=2000........\n",
      "[CV 1/3; 24/64] END learning_rate=0.05, max_depth=5, n_estimators=2000;, score=-78676.852 total time=   5.6s\n",
      "[CV 2/3; 24/64] START learning_rate=0.05, max_depth=5, n_estimators=2000........\n",
      "[CV 2/3; 24/64] END learning_rate=0.05, max_depth=5, n_estimators=2000;, score=-82233.803 total time=   5.5s\n",
      "[CV 3/3; 24/64] START learning_rate=0.05, max_depth=5, n_estimators=2000........\n",
      "[CV 3/3; 24/64] END learning_rate=0.05, max_depth=5, n_estimators=2000;, score=-74154.404 total time=   5.6s\n",
      "[CV 1/3; 25/64] START learning_rate=0.05, max_depth=8, n_estimators=100.........\n",
      "[CV 1/3; 25/64] END learning_rate=0.05, max_depth=8, n_estimators=100;, score=-78635.460 total time=   0.7s\n",
      "[CV 2/3; 25/64] START learning_rate=0.05, max_depth=8, n_estimators=100.........\n",
      "[CV 2/3; 25/64] END learning_rate=0.05, max_depth=8, n_estimators=100;, score=-79762.008 total time=   0.6s\n",
      "[CV 3/3; 25/64] START learning_rate=0.05, max_depth=8, n_estimators=100.........\n",
      "[CV 3/3; 25/64] END learning_rate=0.05, max_depth=8, n_estimators=100;, score=-72137.399 total time=   0.6s\n",
      "[CV 1/3; 26/64] START learning_rate=0.05, max_depth=8, n_estimators=500.........\n",
      "[CV 1/3; 26/64] END learning_rate=0.05, max_depth=8, n_estimators=500;, score=-81261.047 total time=   2.9s\n",
      "[CV 2/3; 26/64] START learning_rate=0.05, max_depth=8, n_estimators=500.........\n",
      "[CV 2/3; 26/64] END learning_rate=0.05, max_depth=8, n_estimators=500;, score=-85661.574 total time=   2.9s\n",
      "[CV 3/3; 26/64] START learning_rate=0.05, max_depth=8, n_estimators=500.........\n",
      "[CV 3/3; 26/64] END learning_rate=0.05, max_depth=8, n_estimators=500;, score=-77307.115 total time=   3.0s\n",
      "[CV 1/3; 27/64] START learning_rate=0.05, max_depth=8, n_estimators=1000........\n",
      "[CV 1/3; 27/64] END learning_rate=0.05, max_depth=8, n_estimators=1000;, score=-82199.002 total time=   5.9s\n",
      "[CV 2/3; 27/64] START learning_rate=0.05, max_depth=8, n_estimators=1000........\n",
      "[CV 2/3; 27/64] END learning_rate=0.05, max_depth=8, n_estimators=1000;, score=-88477.716 total time=   5.9s\n",
      "[CV 3/3; 27/64] START learning_rate=0.05, max_depth=8, n_estimators=1000........\n",
      "[CV 3/3; 27/64] END learning_rate=0.05, max_depth=8, n_estimators=1000;, score=-78946.104 total time=   6.1s\n",
      "[CV 1/3; 28/64] START learning_rate=0.05, max_depth=8, n_estimators=2000........\n",
      "[CV 1/3; 28/64] END learning_rate=0.05, max_depth=8, n_estimators=2000;, score=-83134.456 total time=  12.1s\n",
      "[CV 2/3; 28/64] START learning_rate=0.05, max_depth=8, n_estimators=2000........\n",
      "[CV 2/3; 28/64] END learning_rate=0.05, max_depth=8, n_estimators=2000;, score=-90639.741 total time=  12.0s\n",
      "[CV 3/3; 28/64] START learning_rate=0.05, max_depth=8, n_estimators=2000........\n",
      "[CV 3/3; 28/64] END learning_rate=0.05, max_depth=8, n_estimators=2000;, score=-80192.061 total time=  12.0s\n",
      "[CV 1/3; 29/64] START learning_rate=0.05, max_depth=10, n_estimators=100........\n",
      "[CV 1/3; 29/64] END learning_rate=0.05, max_depth=10, n_estimators=100;, score=-80051.951 total time=   1.2s\n",
      "[CV 2/3; 29/64] START learning_rate=0.05, max_depth=10, n_estimators=100........\n",
      "[CV 2/3; 29/64] END learning_rate=0.05, max_depth=10, n_estimators=100;, score=-81637.083 total time=   1.0s\n",
      "[CV 3/3; 29/64] START learning_rate=0.05, max_depth=10, n_estimators=100........\n",
      "[CV 3/3; 29/64] END learning_rate=0.05, max_depth=10, n_estimators=100;, score=-78559.208 total time=   1.0s\n",
      "[CV 1/3; 30/64] START learning_rate=0.05, max_depth=10, n_estimators=500........\n"
     ]
    },
    {
     "name": "stdout",
     "output_type": "stream",
     "text": [
      "[CV 1/3; 30/64] END learning_rate=0.05, max_depth=10, n_estimators=500;, score=-82502.875 total time=   5.1s\n",
      "[CV 2/3; 30/64] START learning_rate=0.05, max_depth=10, n_estimators=500........\n",
      "[CV 2/3; 30/64] END learning_rate=0.05, max_depth=10, n_estimators=500;, score=-86991.597 total time=   4.8s\n",
      "[CV 3/3; 30/64] START learning_rate=0.05, max_depth=10, n_estimators=500........\n",
      "[CV 3/3; 30/64] END learning_rate=0.05, max_depth=10, n_estimators=500;, score=-81908.934 total time=   4.7s\n",
      "[CV 1/3; 31/64] START learning_rate=0.05, max_depth=10, n_estimators=1000.......\n",
      "[CV 1/3; 31/64] END learning_rate=0.05, max_depth=10, n_estimators=1000;, score=-83165.909 total time=  10.1s\n",
      "[CV 2/3; 31/64] START learning_rate=0.05, max_depth=10, n_estimators=1000.......\n",
      "[CV 2/3; 31/64] END learning_rate=0.05, max_depth=10, n_estimators=1000;, score=-88728.386 total time=   9.9s\n",
      "[CV 3/3; 31/64] START learning_rate=0.05, max_depth=10, n_estimators=1000.......\n",
      "[CV 3/3; 31/64] END learning_rate=0.05, max_depth=10, n_estimators=1000;, score=-83126.881 total time=   9.6s\n",
      "[CV 1/3; 32/64] START learning_rate=0.05, max_depth=10, n_estimators=2000.......\n",
      "[CV 1/3; 32/64] END learning_rate=0.05, max_depth=10, n_estimators=2000;, score=-83721.266 total time=  20.3s\n",
      "[CV 2/3; 32/64] START learning_rate=0.05, max_depth=10, n_estimators=2000.......\n",
      "[CV 2/3; 32/64] END learning_rate=0.05, max_depth=10, n_estimators=2000;, score=-89833.252 total time=  20.6s\n",
      "[CV 3/3; 32/64] START learning_rate=0.05, max_depth=10, n_estimators=2000.......\n",
      "[CV 3/3; 32/64] END learning_rate=0.05, max_depth=10, n_estimators=2000;, score=-83737.569 total time=  20.0s\n",
      "[CV 1/3; 33/64] START learning_rate=0.1, max_depth=3, n_estimators=100..........\n",
      "[CV 1/3; 33/64] END learning_rate=0.1, max_depth=3, n_estimators=100;, score=-74268.006 total time=   0.2s\n",
      "[CV 2/3; 33/64] START learning_rate=0.1, max_depth=3, n_estimators=100..........\n",
      "[CV 2/3; 33/64] END learning_rate=0.1, max_depth=3, n_estimators=100;, score=-71797.777 total time=   0.2s\n",
      "[CV 3/3; 33/64] START learning_rate=0.1, max_depth=3, n_estimators=100..........\n",
      "[CV 3/3; 33/64] END learning_rate=0.1, max_depth=3, n_estimators=100;, score=-62982.007 total time=   0.2s\n",
      "[CV 1/3; 34/64] START learning_rate=0.1, max_depth=3, n_estimators=500..........\n",
      "[CV 1/3; 34/64] END learning_rate=0.1, max_depth=3, n_estimators=500;, score=-73929.270 total time=   1.0s\n",
      "[CV 2/3; 34/64] START learning_rate=0.1, max_depth=3, n_estimators=500..........\n",
      "[CV 2/3; 34/64] END learning_rate=0.1, max_depth=3, n_estimators=500;, score=-75336.464 total time=   0.9s\n",
      "[CV 3/3; 34/64] START learning_rate=0.1, max_depth=3, n_estimators=500..........\n",
      "[CV 3/3; 34/64] END learning_rate=0.1, max_depth=3, n_estimators=500;, score=-67841.186 total time=   1.0s\n",
      "[CV 1/3; 35/64] START learning_rate=0.1, max_depth=3, n_estimators=1000.........\n",
      "[CV 1/3; 35/64] END learning_rate=0.1, max_depth=3, n_estimators=1000;, score=-75548.983 total time=   1.9s\n",
      "[CV 2/3; 35/64] START learning_rate=0.1, max_depth=3, n_estimators=1000.........\n",
      "[CV 2/3; 35/64] END learning_rate=0.1, max_depth=3, n_estimators=1000;, score=-77042.159 total time=   1.9s\n",
      "[CV 3/3; 35/64] START learning_rate=0.1, max_depth=3, n_estimators=1000.........\n",
      "[CV 3/3; 35/64] END learning_rate=0.1, max_depth=3, n_estimators=1000;, score=-69111.022 total time=   1.9s\n",
      "[CV 1/3; 36/64] START learning_rate=0.1, max_depth=3, n_estimators=2000.........\n",
      "[CV 1/3; 36/64] END learning_rate=0.1, max_depth=3, n_estimators=2000;, score=-76564.264 total time=   3.8s\n",
      "[CV 2/3; 36/64] START learning_rate=0.1, max_depth=3, n_estimators=2000.........\n",
      "[CV 2/3; 36/64] END learning_rate=0.1, max_depth=3, n_estimators=2000;, score=-78330.243 total time=   3.8s\n",
      "[CV 3/3; 36/64] START learning_rate=0.1, max_depth=3, n_estimators=2000.........\n",
      "[CV 3/3; 36/64] END learning_rate=0.1, max_depth=3, n_estimators=2000;, score=-70967.920 total time=   3.8s\n",
      "[CV 1/3; 37/64] START learning_rate=0.1, max_depth=5, n_estimators=100..........\n",
      "[CV 1/3; 37/64] END learning_rate=0.1, max_depth=5, n_estimators=100;, score=-73953.138 total time=   0.3s\n",
      "[CV 2/3; 37/64] START learning_rate=0.1, max_depth=5, n_estimators=100..........\n",
      "[CV 2/3; 37/64] END learning_rate=0.1, max_depth=5, n_estimators=100;, score=-76058.971 total time=   0.3s\n",
      "[CV 3/3; 37/64] START learning_rate=0.1, max_depth=5, n_estimators=100..........\n",
      "[CV 3/3; 37/64] END learning_rate=0.1, max_depth=5, n_estimators=100;, score=-65696.899 total time=   0.3s\n",
      "[CV 1/3; 38/64] START learning_rate=0.1, max_depth=5, n_estimators=500..........\n",
      "[CV 1/3; 38/64] END learning_rate=0.1, max_depth=5, n_estimators=500;, score=-77446.664 total time=   1.4s\n",
      "[CV 2/3; 38/64] START learning_rate=0.1, max_depth=5, n_estimators=500..........\n",
      "[CV 2/3; 38/64] END learning_rate=0.1, max_depth=5, n_estimators=500;, score=-80674.929 total time=   1.4s\n",
      "[CV 3/3; 38/64] START learning_rate=0.1, max_depth=5, n_estimators=500..........\n",
      "[CV 3/3; 38/64] END learning_rate=0.1, max_depth=5, n_estimators=500;, score=-73446.891 total time=   1.4s\n",
      "[CV 1/3; 39/64] START learning_rate=0.1, max_depth=5, n_estimators=1000.........\n",
      "[CV 1/3; 39/64] END learning_rate=0.1, max_depth=5, n_estimators=1000;, score=-79791.274 total time=   2.8s\n",
      "[CV 2/3; 39/64] START learning_rate=0.1, max_depth=5, n_estimators=1000.........\n",
      "[CV 2/3; 39/64] END learning_rate=0.1, max_depth=5, n_estimators=1000;, score=-82894.509 total time=   2.8s\n",
      "[CV 3/3; 39/64] START learning_rate=0.1, max_depth=5, n_estimators=1000.........\n",
      "[CV 3/3; 39/64] END learning_rate=0.1, max_depth=5, n_estimators=1000;, score=-76525.379 total time=   2.8s\n",
      "[CV 1/3; 40/64] START learning_rate=0.1, max_depth=5, n_estimators=2000.........\n",
      "[CV 1/3; 40/64] END learning_rate=0.1, max_depth=5, n_estimators=2000;, score=-80965.430 total time=   5.5s\n",
      "[CV 2/3; 40/64] START learning_rate=0.1, max_depth=5, n_estimators=2000.........\n",
      "[CV 2/3; 40/64] END learning_rate=0.1, max_depth=5, n_estimators=2000;, score=-85728.797 total time=   5.6s\n",
      "[CV 3/3; 40/64] START learning_rate=0.1, max_depth=5, n_estimators=2000.........\n",
      "[CV 3/3; 40/64] END learning_rate=0.1, max_depth=5, n_estimators=2000;, score=-78268.319 total time=   5.6s\n",
      "[CV 1/3; 41/64] START learning_rate=0.1, max_depth=8, n_estimators=100..........\n",
      "[CV 1/3; 41/64] END learning_rate=0.1, max_depth=8, n_estimators=100;, score=-80097.968 total time=   0.6s\n",
      "[CV 2/3; 41/64] START learning_rate=0.1, max_depth=8, n_estimators=100..........\n",
      "[CV 2/3; 41/64] END learning_rate=0.1, max_depth=8, n_estimators=100;, score=-80430.360 total time=   0.6s\n",
      "[CV 3/3; 41/64] START learning_rate=0.1, max_depth=8, n_estimators=100..........\n",
      "[CV 3/3; 41/64] END learning_rate=0.1, max_depth=8, n_estimators=100;, score=-73223.254 total time=   0.6s\n",
      "[CV 1/3; 42/64] START learning_rate=0.1, max_depth=8, n_estimators=500..........\n",
      "[CV 1/3; 42/64] END learning_rate=0.1, max_depth=8, n_estimators=500;, score=-82619.268 total time=   3.0s\n",
      "[CV 2/3; 42/64] START learning_rate=0.1, max_depth=8, n_estimators=500..........\n",
      "[CV 2/3; 42/64] END learning_rate=0.1, max_depth=8, n_estimators=500;, score=-87675.304 total time=   3.1s\n",
      "[CV 3/3; 42/64] START learning_rate=0.1, max_depth=8, n_estimators=500..........\n",
      "[CV 3/3; 42/64] END learning_rate=0.1, max_depth=8, n_estimators=500;, score=-76895.157 total time=   3.0s\n",
      "[CV 1/3; 43/64] START learning_rate=0.1, max_depth=8, n_estimators=1000.........\n",
      "[CV 1/3; 43/64] END learning_rate=0.1, max_depth=8, n_estimators=1000;, score=-83697.110 total time=   5.9s\n",
      "[CV 2/3; 43/64] START learning_rate=0.1, max_depth=8, n_estimators=1000.........\n",
      "[CV 2/3; 43/64] END learning_rate=0.1, max_depth=8, n_estimators=1000;, score=-89615.739 total time=   6.0s\n",
      "[CV 3/3; 43/64] START learning_rate=0.1, max_depth=8, n_estimators=1000.........\n",
      "[CV 3/3; 43/64] END learning_rate=0.1, max_depth=8, n_estimators=1000;, score=-78050.986 total time=   6.2s\n",
      "[CV 1/3; 44/64] START learning_rate=0.1, max_depth=8, n_estimators=2000.........\n",
      "[CV 1/3; 44/64] END learning_rate=0.1, max_depth=8, n_estimators=2000;, score=-84385.609 total time=  12.3s\n",
      "[CV 2/3; 44/64] START learning_rate=0.1, max_depth=8, n_estimators=2000.........\n",
      "[CV 2/3; 44/64] END learning_rate=0.1, max_depth=8, n_estimators=2000;, score=-91341.224 total time=  12.4s\n",
      "[CV 3/3; 44/64] START learning_rate=0.1, max_depth=8, n_estimators=2000.........\n"
     ]
    },
    {
     "name": "stdout",
     "output_type": "stream",
     "text": [
      "[CV 3/3; 44/64] END learning_rate=0.1, max_depth=8, n_estimators=2000;, score=-78711.076 total time=  12.5s\n",
      "[CV 1/3; 45/64] START learning_rate=0.1, max_depth=10, n_estimators=100.........\n",
      "[CV 1/3; 45/64] END learning_rate=0.1, max_depth=10, n_estimators=100;, score=-81398.913 total time=   1.1s\n",
      "[CV 2/3; 45/64] START learning_rate=0.1, max_depth=10, n_estimators=100.........\n",
      "[CV 2/3; 45/64] END learning_rate=0.1, max_depth=10, n_estimators=100;, score=-84514.672 total time=   1.0s\n",
      "[CV 3/3; 45/64] START learning_rate=0.1, max_depth=10, n_estimators=100.........\n",
      "[CV 3/3; 45/64] END learning_rate=0.1, max_depth=10, n_estimators=100;, score=-79938.790 total time=   0.9s\n",
      "[CV 1/3; 46/64] START learning_rate=0.1, max_depth=10, n_estimators=500.........\n",
      "[CV 1/3; 46/64] END learning_rate=0.1, max_depth=10, n_estimators=500;, score=-83429.467 total time=   5.1s\n",
      "[CV 2/3; 46/64] START learning_rate=0.1, max_depth=10, n_estimators=500.........\n",
      "[CV 2/3; 46/64] END learning_rate=0.1, max_depth=10, n_estimators=500;, score=-91123.866 total time=   5.0s\n",
      "[CV 3/3; 46/64] START learning_rate=0.1, max_depth=10, n_estimators=500.........\n",
      "[CV 3/3; 46/64] END learning_rate=0.1, max_depth=10, n_estimators=500;, score=-83472.870 total time=   5.0s\n",
      "[CV 1/3; 47/64] START learning_rate=0.1, max_depth=10, n_estimators=1000........\n",
      "[CV 1/3; 47/64] END learning_rate=0.1, max_depth=10, n_estimators=1000;, score=-84035.027 total time=  10.3s\n",
      "[CV 2/3; 47/64] START learning_rate=0.1, max_depth=10, n_estimators=1000........\n",
      "[CV 2/3; 47/64] END learning_rate=0.1, max_depth=10, n_estimators=1000;, score=-91950.568 total time=  10.3s\n",
      "[CV 3/3; 47/64] START learning_rate=0.1, max_depth=10, n_estimators=1000........\n",
      "[CV 3/3; 47/64] END learning_rate=0.1, max_depth=10, n_estimators=1000;, score=-84007.375 total time=  10.1s\n",
      "[CV 1/3; 48/64] START learning_rate=0.1, max_depth=10, n_estimators=2000........\n",
      "[CV 1/3; 48/64] END learning_rate=0.1, max_depth=10, n_estimators=2000;, score=-84286.546 total time=  20.9s\n",
      "[CV 2/3; 48/64] START learning_rate=0.1, max_depth=10, n_estimators=2000........\n",
      "[CV 2/3; 48/64] END learning_rate=0.1, max_depth=10, n_estimators=2000;, score=-92249.518 total time=  20.9s\n",
      "[CV 3/3; 48/64] START learning_rate=0.1, max_depth=10, n_estimators=2000........\n",
      "[CV 3/3; 48/64] END learning_rate=0.1, max_depth=10, n_estimators=2000;, score=-84216.237 total time=  20.5s\n",
      "[CV 1/3; 49/64] START learning_rate=0.15, max_depth=3, n_estimators=100.........\n",
      "[CV 1/3; 49/64] END learning_rate=0.15, max_depth=3, n_estimators=100;, score=-73471.822 total time=   0.2s\n",
      "[CV 2/3; 49/64] START learning_rate=0.15, max_depth=3, n_estimators=100.........\n",
      "[CV 2/3; 49/64] END learning_rate=0.15, max_depth=3, n_estimators=100;, score=-73044.850 total time=   0.2s\n",
      "[CV 3/3; 49/64] START learning_rate=0.15, max_depth=3, n_estimators=100.........\n",
      "[CV 3/3; 49/64] END learning_rate=0.15, max_depth=3, n_estimators=100;, score=-64628.501 total time=   0.2s\n",
      "[CV 1/3; 50/64] START learning_rate=0.15, max_depth=3, n_estimators=500.........\n",
      "[CV 1/3; 50/64] END learning_rate=0.15, max_depth=3, n_estimators=500;, score=-76257.343 total time=   0.9s\n",
      "[CV 2/3; 50/64] START learning_rate=0.15, max_depth=3, n_estimators=500.........\n",
      "[CV 2/3; 50/64] END learning_rate=0.15, max_depth=3, n_estimators=500;, score=-77529.693 total time=   0.9s\n",
      "[CV 3/3; 50/64] START learning_rate=0.15, max_depth=3, n_estimators=500.........\n",
      "[CV 3/3; 50/64] END learning_rate=0.15, max_depth=3, n_estimators=500;, score=-69366.515 total time=   0.9s\n",
      "[CV 1/3; 51/64] START learning_rate=0.15, max_depth=3, n_estimators=1000........\n",
      "[CV 1/3; 51/64] END learning_rate=0.15, max_depth=3, n_estimators=1000;, score=-77306.058 total time=   1.9s\n",
      "[CV 2/3; 51/64] START learning_rate=0.15, max_depth=3, n_estimators=1000........\n",
      "[CV 2/3; 51/64] END learning_rate=0.15, max_depth=3, n_estimators=1000;, score=-79629.351 total time=   1.9s\n",
      "[CV 3/3; 51/64] START learning_rate=0.15, max_depth=3, n_estimators=1000........\n",
      "[CV 3/3; 51/64] END learning_rate=0.15, max_depth=3, n_estimators=1000;, score=-70821.553 total time=   1.9s\n",
      "[CV 1/3; 52/64] START learning_rate=0.15, max_depth=3, n_estimators=2000........\n",
      "[CV 1/3; 52/64] END learning_rate=0.15, max_depth=3, n_estimators=2000;, score=-78364.641 total time=   3.8s\n",
      "[CV 2/3; 52/64] START learning_rate=0.15, max_depth=3, n_estimators=2000........\n",
      "[CV 2/3; 52/64] END learning_rate=0.15, max_depth=3, n_estimators=2000;, score=-82167.412 total time=   3.7s\n",
      "[CV 3/3; 52/64] START learning_rate=0.15, max_depth=3, n_estimators=2000........\n",
      "[CV 3/3; 52/64] END learning_rate=0.15, max_depth=3, n_estimators=2000;, score=-72678.841 total time=   3.8s\n",
      "[CV 1/3; 53/64] START learning_rate=0.15, max_depth=5, n_estimators=100.........\n",
      "[CV 1/3; 53/64] END learning_rate=0.15, max_depth=5, n_estimators=100;, score=-74296.512 total time=   0.3s\n",
      "[CV 2/3; 53/64] START learning_rate=0.15, max_depth=5, n_estimators=100.........\n",
      "[CV 2/3; 53/64] END learning_rate=0.15, max_depth=5, n_estimators=100;, score=-76203.274 total time=   0.3s\n",
      "[CV 3/3; 53/64] START learning_rate=0.15, max_depth=5, n_estimators=100.........\n",
      "[CV 3/3; 53/64] END learning_rate=0.15, max_depth=5, n_estimators=100;, score=-67296.867 total time=   0.3s\n",
      "[CV 1/3; 54/64] START learning_rate=0.15, max_depth=5, n_estimators=500.........\n",
      "[CV 1/3; 54/64] END learning_rate=0.15, max_depth=5, n_estimators=500;, score=-77904.181 total time=   1.4s\n",
      "[CV 2/3; 54/64] START learning_rate=0.15, max_depth=5, n_estimators=500.........\n",
      "[CV 2/3; 54/64] END learning_rate=0.15, max_depth=5, n_estimators=500;, score=-80883.617 total time=   1.4s\n",
      "[CV 3/3; 54/64] START learning_rate=0.15, max_depth=5, n_estimators=500.........\n",
      "[CV 3/3; 54/64] END learning_rate=0.15, max_depth=5, n_estimators=500;, score=-73702.910 total time=   1.4s\n",
      "[CV 1/3; 55/64] START learning_rate=0.15, max_depth=5, n_estimators=1000........\n",
      "[CV 1/3; 55/64] END learning_rate=0.15, max_depth=5, n_estimators=1000;, score=-80353.218 total time=   2.7s\n",
      "[CV 2/3; 55/64] START learning_rate=0.15, max_depth=5, n_estimators=1000........\n",
      "[CV 2/3; 55/64] END learning_rate=0.15, max_depth=5, n_estimators=1000;, score=-83549.502 total time=   2.8s\n",
      "[CV 3/3; 55/64] START learning_rate=0.15, max_depth=5, n_estimators=1000........\n",
      "[CV 3/3; 55/64] END learning_rate=0.15, max_depth=5, n_estimators=1000;, score=-75683.993 total time=   2.8s\n",
      "[CV 1/3; 56/64] START learning_rate=0.15, max_depth=5, n_estimators=2000........\n",
      "[CV 1/3; 56/64] END learning_rate=0.15, max_depth=5, n_estimators=2000;, score=-81741.033 total time=   5.6s\n",
      "[CV 2/3; 56/64] START learning_rate=0.15, max_depth=5, n_estimators=2000........\n",
      "[CV 2/3; 56/64] END learning_rate=0.15, max_depth=5, n_estimators=2000;, score=-86019.066 total time=   5.6s\n",
      "[CV 3/3; 56/64] START learning_rate=0.15, max_depth=5, n_estimators=2000........\n",
      "[CV 3/3; 56/64] END learning_rate=0.15, max_depth=5, n_estimators=2000;, score=-77430.551 total time=   5.7s\n",
      "[CV 1/3; 57/64] START learning_rate=0.15, max_depth=8, n_estimators=100.........\n",
      "[CV 1/3; 57/64] END learning_rate=0.15, max_depth=8, n_estimators=100;, score=-80179.826 total time=   0.6s\n",
      "[CV 2/3; 57/64] START learning_rate=0.15, max_depth=8, n_estimators=100.........\n",
      "[CV 2/3; 57/64] END learning_rate=0.15, max_depth=8, n_estimators=100;, score=-83536.204 total time=   0.6s\n",
      "[CV 3/3; 57/64] START learning_rate=0.15, max_depth=8, n_estimators=100.........\n",
      "[CV 3/3; 57/64] END learning_rate=0.15, max_depth=8, n_estimators=100;, score=-74261.790 total time=   0.5s\n",
      "[CV 1/3; 58/64] START learning_rate=0.15, max_depth=8, n_estimators=500.........\n",
      "[CV 1/3; 58/64] END learning_rate=0.15, max_depth=8, n_estimators=500;, score=-82801.173 total time=   3.0s\n",
      "[CV 2/3; 58/64] START learning_rate=0.15, max_depth=8, n_estimators=500.........\n",
      "[CV 2/3; 58/64] END learning_rate=0.15, max_depth=8, n_estimators=500;, score=-90999.905 total time=   2.9s\n",
      "[CV 3/3; 58/64] START learning_rate=0.15, max_depth=8, n_estimators=500.........\n",
      "[CV 3/3; 58/64] END learning_rate=0.15, max_depth=8, n_estimators=500;, score=-77975.654 total time=   3.0s\n",
      "[CV 1/3; 59/64] START learning_rate=0.15, max_depth=8, n_estimators=1000........\n",
      "[CV 1/3; 59/64] END learning_rate=0.15, max_depth=8, n_estimators=1000;, score=-83672.042 total time=   6.1s\n",
      "[CV 2/3; 59/64] START learning_rate=0.15, max_depth=8, n_estimators=1000........\n"
     ]
    },
    {
     "name": "stdout",
     "output_type": "stream",
     "text": [
      "[CV 2/3; 59/64] END learning_rate=0.15, max_depth=8, n_estimators=1000;, score=-92426.299 total time=   6.1s\n",
      "[CV 3/3; 59/64] START learning_rate=0.15, max_depth=8, n_estimators=1000........\n",
      "[CV 3/3; 59/64] END learning_rate=0.15, max_depth=8, n_estimators=1000;, score=-78766.137 total time=   6.1s\n",
      "[CV 1/3; 60/64] START learning_rate=0.15, max_depth=8, n_estimators=2000........\n",
      "[CV 1/3; 60/64] END learning_rate=0.15, max_depth=8, n_estimators=2000;, score=-84194.377 total time=  12.8s\n",
      "[CV 2/3; 60/64] START learning_rate=0.15, max_depth=8, n_estimators=2000........\n",
      "[CV 2/3; 60/64] END learning_rate=0.15, max_depth=8, n_estimators=2000;, score=-93117.734 total time=  12.7s\n",
      "[CV 3/3; 60/64] START learning_rate=0.15, max_depth=8, n_estimators=2000........\n",
      "[CV 3/3; 60/64] END learning_rate=0.15, max_depth=8, n_estimators=2000;, score=-79215.418 total time=  12.5s\n",
      "[CV 1/3; 61/64] START learning_rate=0.15, max_depth=10, n_estimators=100........\n",
      "[CV 1/3; 61/64] END learning_rate=0.15, max_depth=10, n_estimators=100;, score=-82304.571 total time=   1.1s\n",
      "[CV 2/3; 61/64] START learning_rate=0.15, max_depth=10, n_estimators=100........\n",
      "[CV 2/3; 61/64] END learning_rate=0.15, max_depth=10, n_estimators=100;, score=-86652.179 total time=   0.9s\n",
      "[CV 3/3; 61/64] START learning_rate=0.15, max_depth=10, n_estimators=100........\n",
      "[CV 3/3; 61/64] END learning_rate=0.15, max_depth=10, n_estimators=100;, score=-82863.190 total time=   0.9s\n",
      "[CV 1/3; 62/64] START learning_rate=0.15, max_depth=10, n_estimators=500........\n",
      "[CV 1/3; 62/64] END learning_rate=0.15, max_depth=10, n_estimators=500;, score=-84037.532 total time=   5.2s\n",
      "[CV 2/3; 62/64] START learning_rate=0.15, max_depth=10, n_estimators=500........\n",
      "[CV 2/3; 62/64] END learning_rate=0.15, max_depth=10, n_estimators=500;, score=-92325.208 total time=   5.1s\n",
      "[CV 3/3; 62/64] START learning_rate=0.15, max_depth=10, n_estimators=500........\n",
      "[CV 3/3; 62/64] END learning_rate=0.15, max_depth=10, n_estimators=500;, score=-85036.192 total time=   5.0s\n",
      "[CV 1/3; 63/64] START learning_rate=0.15, max_depth=10, n_estimators=1000.......\n",
      "[CV 1/3; 63/64] END learning_rate=0.15, max_depth=10, n_estimators=1000;, score=-84372.139 total time=  10.7s\n",
      "[CV 2/3; 63/64] START learning_rate=0.15, max_depth=10, n_estimators=1000.......\n",
      "[CV 2/3; 63/64] END learning_rate=0.15, max_depth=10, n_estimators=1000;, score=-92765.942 total time=  10.4s\n",
      "[CV 3/3; 63/64] START learning_rate=0.15, max_depth=10, n_estimators=1000.......\n",
      "[CV 3/3; 63/64] END learning_rate=0.15, max_depth=10, n_estimators=1000;, score=-85384.848 total time=  10.4s\n",
      "[CV 1/3; 64/64] START learning_rate=0.15, max_depth=10, n_estimators=2000.......\n",
      "[CV 1/3; 64/64] END learning_rate=0.15, max_depth=10, n_estimators=2000;, score=-84499.826 total time=  21.5s\n",
      "[CV 2/3; 64/64] START learning_rate=0.15, max_depth=10, n_estimators=2000.......\n",
      "[CV 2/3; 64/64] END learning_rate=0.15, max_depth=10, n_estimators=2000;, score=-92930.427 total time=  21.5s\n",
      "[CV 3/3; 64/64] START learning_rate=0.15, max_depth=10, n_estimators=2000.......\n",
      "[CV 3/3; 64/64] END learning_rate=0.15, max_depth=10, n_estimators=2000;, score=-85481.252 total time=  21.6s\n",
      "XGBRegressor(base_score=None, booster=None, callbacks=None,\n",
      "             colsample_bylevel=None, colsample_bynode=None,\n",
      "             colsample_bytree=None, device=None, early_stopping_rounds=None,\n",
      "             enable_categorical=False, eval_metric=None, feature_types=None,\n",
      "             gamma=None, grow_policy=None, importance_type=None,\n",
      "             interaction_constraints=None, learning_rate=0.01, max_bin=None,\n",
      "             max_cat_threshold=None, max_cat_to_onehot=None,\n",
      "             max_delta_step=None, max_depth=3, max_leaves=None,\n",
      "             min_child_weight=None, missing=nan, monotone_constraints=None,\n",
      "             multi_strategy=None, n_estimators=500, n_jobs=None,\n",
      "             num_parallel_tree=None, random_state=None, ...)\n",
      "-69519.69958500574\n",
      "{'learning_rate': 0.01, 'max_depth': 3, 'n_estimators': 500}\n"
     ]
    }
   ],
   "source": [
    "param_grid={'n_estimators':[100,500,1000,2000],\n",
    "            'max_depth':[3,5,8,10],\n",
    "            'learning_rate':[0.01,0.05,0.1,0.15]}\n",
    "\n",
    "grid_search_cv=GridSearchCV(estimator=XGBRegressor(),\n",
    "                         param_grid=param_grid,\n",
    "                         scoring='neg_root_mean_squared_error',\n",
    "                         cv=3,\n",
    "                         verbose=10)\n",
    "\n",
    "grid_search_cv.fit(X_train,y_train)\n",
    "\n",
    "best_model=grid_search_cv.best_estimator_\n",
    "print(grid_search_cv.best_estimator_)\n",
    "print(grid_search_cv.best_score_)\n",
    "print(grid_search_cv.best_params_)"
   ]
  },
  {
   "cell_type": "code",
   "execution_count": 65,
   "id": "e40bcc76",
   "metadata": {},
   "outputs": [
    {
     "data": {
      "text/plain": [
       "69062.38565791721"
      ]
     },
     "execution_count": 65,
     "metadata": {},
     "output_type": "execute_result"
    }
   ],
   "source": [
    "final_model_xgb = grid_search_cv.best_estimator_\n",
    "\n",
    "y_pred_final_xgb = final_model.predict(X_valid)\n",
    "np.sqrt(mean_squared_error(y_valid,y_pred_final_xgb))"
   ]
  },
  {
   "cell_type": "code",
   "execution_count": 66,
   "id": "12665a77",
   "metadata": {},
   "outputs": [],
   "source": [
    "y_preds_final_xgb = final_model_xgb.predict(test_data)\n",
    "y_preds_final_xgb = pd.DataFrame(y_preds_final_xgb,columns=['price'])"
   ]
  },
  {
   "cell_type": "code",
   "execution_count": 67,
   "id": "c84625e9",
   "metadata": {},
   "outputs": [],
   "source": [
    "sample_submission['price'] = y_preds_final_xgb['price']\n",
    "sample_submission.to_csv('final_output_xgb.csv',index=False)"
   ]
  },
  {
   "cell_type": "code",
   "execution_count": 69,
   "id": "316cb648",
   "metadata": {},
   "outputs": [
    {
     "name": "stdout",
     "output_type": "stream",
     "text": [
      "Fitting 3 folds for each of 16 candidates, totalling 48 fits\n",
      "[CV 1/3; 1/16] START max_depth=3, n_estimators=100..............................\n",
      "[CV 1/3; 1/16] END max_depth=3, n_estimators=100;, score=-75252.365 total time=   3.7s\n",
      "[CV 2/3; 1/16] START max_depth=3, n_estimators=100..............................\n",
      "[CV 2/3; 1/16] END max_depth=3, n_estimators=100;, score=-70840.397 total time=   3.6s\n",
      "[CV 3/3; 1/16] START max_depth=3, n_estimators=100..............................\n",
      "[CV 3/3; 1/16] END max_depth=3, n_estimators=100;, score=-64876.176 total time=   4.2s\n",
      "[CV 1/3; 2/16] START max_depth=3, n_estimators=500..............................\n",
      "[CV 1/3; 2/16] END max_depth=3, n_estimators=500;, score=-75144.143 total time=  16.5s\n",
      "[CV 2/3; 2/16] START max_depth=3, n_estimators=500..............................\n",
      "[CV 2/3; 2/16] END max_depth=3, n_estimators=500;, score=-70817.482 total time=  13.0s\n",
      "[CV 3/3; 2/16] START max_depth=3, n_estimators=500..............................\n",
      "[CV 3/3; 2/16] END max_depth=3, n_estimators=500;, score=-64893.604 total time=  12.5s\n",
      "[CV 1/3; 3/16] START max_depth=3, n_estimators=1000.............................\n",
      "[CV 1/3; 3/16] END max_depth=3, n_estimators=1000;, score=-75150.064 total time=  24.9s\n",
      "[CV 2/3; 3/16] START max_depth=3, n_estimators=1000.............................\n",
      "[CV 2/3; 3/16] END max_depth=3, n_estimators=1000;, score=-70826.289 total time=  29.6s\n",
      "[CV 3/3; 3/16] START max_depth=3, n_estimators=1000.............................\n",
      "[CV 3/3; 3/16] END max_depth=3, n_estimators=1000;, score=-64874.642 total time=  26.2s\n",
      "[CV 1/3; 4/16] START max_depth=3, n_estimators=2000.............................\n",
      "[CV 1/3; 4/16] END max_depth=3, n_estimators=2000;, score=-75173.316 total time=  53.9s\n",
      "[CV 2/3; 4/16] START max_depth=3, n_estimators=2000.............................\n",
      "[CV 2/3; 4/16] END max_depth=3, n_estimators=2000;, score=-70821.298 total time=  55.6s\n",
      "[CV 3/3; 4/16] START max_depth=3, n_estimators=2000.............................\n",
      "[CV 3/3; 4/16] END max_depth=3, n_estimators=2000;, score=-64894.981 total time=  54.2s\n",
      "[CV 1/3; 5/16] START max_depth=5, n_estimators=100..............................\n",
      "[CV 1/3; 5/16] END max_depth=5, n_estimators=100;, score=-72938.887 total time=   4.1s\n",
      "[CV 2/3; 5/16] START max_depth=5, n_estimators=100..............................\n",
      "[CV 2/3; 5/16] END max_depth=5, n_estimators=100;, score=-71616.428 total time=   4.1s\n",
      "[CV 3/3; 5/16] START max_depth=5, n_estimators=100..............................\n",
      "[CV 3/3; 5/16] END max_depth=5, n_estimators=100;, score=-63379.201 total time=   4.0s\n",
      "[CV 1/3; 6/16] START max_depth=5, n_estimators=500..............................\n",
      "[CV 1/3; 6/16] END max_depth=5, n_estimators=500;, score=-72743.395 total time=  20.7s\n",
      "[CV 2/3; 6/16] START max_depth=5, n_estimators=500..............................\n",
      "[CV 2/3; 6/16] END max_depth=5, n_estimators=500;, score=-72043.614 total time=  19.9s\n",
      "[CV 3/3; 6/16] START max_depth=5, n_estimators=500..............................\n",
      "[CV 3/3; 6/16] END max_depth=5, n_estimators=500;, score=-62877.388 total time=  19.4s\n",
      "[CV 1/3; 7/16] START max_depth=5, n_estimators=1000.............................\n",
      "[CV 1/3; 7/16] END max_depth=5, n_estimators=1000;, score=-72655.477 total time=  38.1s\n",
      "[CV 2/3; 7/16] START max_depth=5, n_estimators=1000.............................\n",
      "[CV 2/3; 7/16] END max_depth=5, n_estimators=1000;, score=-72106.900 total time=  42.9s\n",
      "[CV 3/3; 7/16] START max_depth=5, n_estimators=1000.............................\n",
      "[CV 3/3; 7/16] END max_depth=5, n_estimators=1000;, score=-62965.384 total time=  53.8s\n",
      "[CV 1/3; 8/16] START max_depth=5, n_estimators=2000.............................\n",
      "[CV 1/3; 8/16] END max_depth=5, n_estimators=2000;, score=-72707.947 total time= 1.6min\n",
      "[CV 2/3; 8/16] START max_depth=5, n_estimators=2000.............................\n",
      "[CV 2/3; 8/16] END max_depth=5, n_estimators=2000;, score=-72033.205 total time= 1.6min\n",
      "[CV 3/3; 8/16] START max_depth=5, n_estimators=2000.............................\n",
      "[CV 3/3; 8/16] END max_depth=5, n_estimators=2000;, score=-63026.375 total time= 1.5min\n",
      "[CV 1/3; 9/16] START max_depth=8, n_estimators=100..............................\n",
      "[CV 1/3; 9/16] END max_depth=8, n_estimators=100;, score=-74533.959 total time=   7.0s\n",
      "[CV 2/3; 9/16] START max_depth=8, n_estimators=100..............................\n",
      "[CV 2/3; 9/16] END max_depth=8, n_estimators=100;, score=-74150.572 total time=   6.3s\n",
      "[CV 3/3; 9/16] START max_depth=8, n_estimators=100..............................\n",
      "[CV 3/3; 9/16] END max_depth=8, n_estimators=100;, score=-64101.477 total time=   6.1s\n",
      "[CV 1/3; 10/16] START max_depth=8, n_estimators=500.............................\n",
      "[CV 1/3; 10/16] END max_depth=8, n_estimators=500;, score=-74153.213 total time=  35.3s\n",
      "[CV 2/3; 10/16] START max_depth=8, n_estimators=500.............................\n",
      "[CV 2/3; 10/16] END max_depth=8, n_estimators=500;, score=-73817.511 total time=  33.5s\n",
      "[CV 3/3; 10/16] START max_depth=8, n_estimators=500.............................\n",
      "[CV 3/3; 10/16] END max_depth=8, n_estimators=500;, score=-64004.869 total time=  35.0s\n",
      "[CV 1/3; 11/16] START max_depth=8, n_estimators=1000............................\n",
      "[CV 1/3; 11/16] END max_depth=8, n_estimators=1000;, score=-74300.294 total time= 1.8min\n",
      "[CV 2/3; 11/16] START max_depth=8, n_estimators=1000............................\n",
      "[CV 2/3; 11/16] END max_depth=8, n_estimators=1000;, score=-74299.015 total time= 1.3min\n",
      "[CV 3/3; 11/16] START max_depth=8, n_estimators=1000............................\n",
      "[CV 3/3; 11/16] END max_depth=8, n_estimators=1000;, score=-64284.674 total time= 1.2min\n",
      "[CV 1/3; 12/16] START max_depth=8, n_estimators=2000............................\n",
      "[CV 1/3; 12/16] END max_depth=8, n_estimators=2000;, score=-74154.667 total time= 2.9min\n",
      "[CV 2/3; 12/16] START max_depth=8, n_estimators=2000............................\n",
      "[CV 2/3; 12/16] END max_depth=8, n_estimators=2000;, score=-74003.407 total time= 2.1min\n",
      "[CV 3/3; 12/16] START max_depth=8, n_estimators=2000............................\n",
      "[CV 3/3; 12/16] END max_depth=8, n_estimators=2000;, score=-63977.824 total time= 1.9min\n",
      "[CV 1/3; 13/16] START max_depth=10, n_estimators=100............................\n",
      "[CV 1/3; 13/16] END max_depth=10, n_estimators=100;, score=-75591.510 total time=   6.8s\n",
      "[CV 2/3; 13/16] START max_depth=10, n_estimators=100............................\n",
      "[CV 2/3; 13/16] END max_depth=10, n_estimators=100;, score=-75414.600 total time=   6.8s\n",
      "[CV 3/3; 13/16] START max_depth=10, n_estimators=100............................\n",
      "[CV 3/3; 13/16] END max_depth=10, n_estimators=100;, score=-65150.875 total time=   6.9s\n",
      "[CV 1/3; 14/16] START max_depth=10, n_estimators=500............................\n",
      "[CV 1/3; 14/16] END max_depth=10, n_estimators=500;, score=-74888.296 total time=  34.1s\n",
      "[CV 2/3; 14/16] START max_depth=10, n_estimators=500............................\n",
      "[CV 2/3; 14/16] END max_depth=10, n_estimators=500;, score=-75403.245 total time=  34.1s\n",
      "[CV 3/3; 14/16] START max_depth=10, n_estimators=500............................\n",
      "[CV 3/3; 14/16] END max_depth=10, n_estimators=500;, score=-65510.404 total time=  34.3s\n",
      "[CV 1/3; 15/16] START max_depth=10, n_estimators=1000...........................\n",
      "[CV 1/3; 15/16] END max_depth=10, n_estimators=1000;, score=-75157.137 total time= 1.5min\n",
      "[CV 2/3; 15/16] START max_depth=10, n_estimators=1000...........................\n",
      "[CV 2/3; 15/16] END max_depth=10, n_estimators=1000;, score=-75161.277 total time= 1.2min\n",
      "[CV 3/3; 15/16] START max_depth=10, n_estimators=1000...........................\n",
      "[CV 3/3; 15/16] END max_depth=10, n_estimators=1000;, score=-65367.619 total time= 1.2min\n",
      "[CV 1/3; 16/16] START max_depth=10, n_estimators=2000...........................\n",
      "[CV 1/3; 16/16] END max_depth=10, n_estimators=2000;, score=-74941.323 total time= 2.3min\n",
      "[CV 2/3; 16/16] START max_depth=10, n_estimators=2000...........................\n",
      "[CV 2/3; 16/16] END max_depth=10, n_estimators=2000;, score=-75350.942 total time= 2.6min\n",
      "[CV 3/3; 16/16] START max_depth=10, n_estimators=2000...........................\n",
      "[CV 3/3; 16/16] END max_depth=10, n_estimators=2000;, score=-65242.231 total time= 2.6min\n",
      "RandomForestRegressor(max_depth=5, n_estimators=500)\n",
      "-69221.46579251577\n",
      "{'max_depth': 5, 'n_estimators': 500}\n"
     ]
    }
   ],
   "source": [
    "param_grid={'n_estimators':[100,500,1000,2000],\n",
    "            'max_depth':[3,5,8,10]}\n",
    "\n",
    "grid_search_cv_RF=GridSearchCV(estimator=RandomForestRegressor(),\n",
    "                         param_grid=param_grid,\n",
    "                         scoring='neg_root_mean_squared_error',\n",
    "                         cv=3,\n",
    "                         verbose=10)\n",
    "\n",
    "grid_search_cv_RF.fit(X_train,y_train)\n",
    "\n",
    "best_model=grid_search_cv_RF.best_estimator_\n",
    "print(grid_search_cv_RF.best_estimator_)\n",
    "print(grid_search_cv_RF.best_score_)\n",
    "print(grid_search_cv_RF.best_params_)"
   ]
  },
  {
   "cell_type": "code",
   "execution_count": 70,
   "id": "8f4c5623",
   "metadata": {},
   "outputs": [
    {
     "data": {
      "text/plain": [
       "63274.829329466425"
      ]
     },
     "execution_count": 70,
     "metadata": {},
     "output_type": "execute_result"
    }
   ],
   "source": [
    "final_model_rf = grid_search_cv_RF.best_estimator_\n",
    "\n",
    "y_pred_final_rf = final_model_rf.predict(X_valid)\n",
    "np.sqrt(mean_squared_error(y_valid,y_pred_final_rf))"
   ]
  },
  {
   "cell_type": "code",
   "execution_count": 71,
   "id": "297fb4aa",
   "metadata": {},
   "outputs": [],
   "source": [
    "y_preds_final_rf = final_model_rf.predict(test_data)\n",
    "y_preds_final_rf = pd.DataFrame(y_preds_final_rf,columns=['price'])"
   ]
  },
  {
   "cell_type": "code",
   "execution_count": 72,
   "id": "803e09cb",
   "metadata": {},
   "outputs": [],
   "source": [
    "sample_submission['price'] = y_preds_final_rf['price']\n",
    "sample_submission.to_csv('final_output_rf.csv',index=False)"
   ]
  }
 ],
 "metadata": {
  "kernelspec": {
   "display_name": "Python 3 (ipykernel)",
   "language": "python",
   "name": "python3"
  },
  "language_info": {
   "codemirror_mode": {
    "name": "ipython",
    "version": 3
   },
   "file_extension": ".py",
   "mimetype": "text/x-python",
   "name": "python",
   "nbconvert_exporter": "python",
   "pygments_lexer": "ipython3",
   "version": "3.9.12"
  }
 },
 "nbformat": 4,
 "nbformat_minor": 5
}
